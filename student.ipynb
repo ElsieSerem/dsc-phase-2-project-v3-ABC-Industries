{
 "cells": [
  {
   "cell_type": "markdown",
   "metadata": {},
   "source": [
    "## Final Project Submission\n",
    "\n",
    "* *__Student name:__ Elsie Serem*\n",
    "\n",
    "* *__Technical Manager:__ Antonny Muiko*\n"
   ]
  },
  {
   "cell_type": "markdown",
   "metadata": {},
   "source": [
    "## Business Problem\n",
    "Your company now sees all the big companies creating original video content and they want to get in on the fun. They have decided to create a new movie studio, but they don’t know anything about creating movies. You are charged with exploring what types of films are currently doing the best at the box office. You must then translate those findings into actionable insights that the head of your company's new movie studio can use to help decide what type of films to create."
   ]
  },
  {
   "cell_type": "markdown",
   "metadata": {},
   "source": [
    "## Overview"
   ]
  },
  {
   "cell_type": "markdown",
   "metadata": {},
   "source": [
    " The aim of this project is to identify the most successful film genres, themes and audience demographics and analyse these trends in box office. Insights on the types of movies that are performing best will be gathered and their actions translated into actionable recommendations focusing on the guiding descisions on content creation and target audience engagement, for the new movie studio endorsed by ABC Industries,  which will in turn ensure the production of commercially successful films."
   ]
  },
  {
   "cell_type": "markdown",
   "metadata": {},
   "source": [
    "## Business Understanding\n",
    "\n",
    "ABC Industries is looking to expand to the film industry but it lacks expertise. To ensure the studio's success, it is essential to understand what types of films are currently thriving at the box office. The goal of this project is to identify the most successful film genres, themes, and audience demographics, and analyze these trends to make informed strategic decisions on content creation and target audience engagement.\n",
    "\n",
    "By conducting a thorough analysis of box office trends, this project aims to provide actionable recommendations for the new movie studio. These insights will guide the studio's content creation strategy, enabling them to produce commercially successful films that resonate with their target audience. Ultimately, this project will help ABC Industries' new movie studio establish a strong foothold in the competitive film industry and achieve long-term success."
   ]
  },
  {
   "cell_type": "markdown",
   "metadata": {},
   "source": [
    "### Stakeholders\n",
    "The primary stakeholders for this project include:\n",
    "\n",
    "* *ABC Industries Executives:* To inform strategic decision-making and investment in content creation.\n",
    "* *New Movie Studio Management:* To guide the production and marketing strategies.\n",
    "* *Content Creators and Directors:* To understand current trends and audience preferences.\n",
    "* *Marketing Teams:* To effectively target and engage the right audience demographics."
   ]
  },
  {
   "cell_type": "markdown",
   "metadata": {},
   "source": [
    "### Business Questions to be answered\n",
    "\n",
    "1. What are the top three genres that should be utilized for content creation?\n",
    "2. What genres of movies are currently performing well at the box office in terms of income generation?\n",
    "3. Which directors tend to produce movies with higher commercial success, and should we consider working with them?\n",
    "4. What are the key characteristics that ensure the success of movies in the long run? \n"
   ]
  },
  {
   "cell_type": "markdown",
   "metadata": {},
   "source": [
    "## Data Understanding\n",
    "### Data Sources and Suitability\n",
    "The analysis uses data from Box Office Mojo (BOM), Rotten Tomatoes (RT), TheMovieDB (TMDB), and The Numbers (TN), selected for their comprehensive movie performance insights:\n",
    "\n",
    "1. Box Office Mojo (BOM): Provides domestic and foreign gross revenue.\n",
    "2. Rotten Tomatoes (RT): Includes critic reviews, ratings, and detailed movie info.\n",
    "3. TheMovieDB (TMDB): Offers popularity, release dates, and user ratings.\n",
    "4. The Numbers (TN): Contains production budgets, domestic, and worldwide gross revenues.\n",
    "### Feature Relevance\n",
    "These features are crucial for addressing the business questions:\n",
    "\n",
    "* Gross Revenues: To assess financial success.\n",
    "* Ratings and Genre: To identify popular and critically acclaimed genres.\n",
    "* Director: To find directors associated with successful movies.\n",
    "* Runtime: To understand preferred movie lengths.\n",
    "* Popularity and User Ratings: To gauge audience engagement.\n",
    "* Production Budget: To analyze financial aspects and profitability.\n",
    "* Worldwide Gross: To evaluate overall financial performance.\n",
    "\n",
    "### Data Limitations\n",
    "Key limitations include:\n",
    "\n",
    "* Missing Values: Addressed through imputation or deletion.\n",
    "* Data Consistency: Variations in data collection methods.\n",
    "* Historical Data: Might not capture recent trends.\n",
    "* Genre Classification: Movies often fit multiple genres,     affecting classification accuracy.\n",
    "\n",
    "By focusing on these features, the analysis aims to provide actionable insights for ABC Industries' new movie studio to guide content creation and target audience engagement."
   ]
  },
  {
   "cell_type": "markdown",
   "metadata": {},
   "source": [
    "## Data Preparation\n"
   ]
  },
  {
   "cell_type": "markdown",
   "metadata": {},
   "source": [
    "### Loading the data\n",
    "The first step is to load the datasets from, Box Office Mojo(BOM), IMDB, Rotten Tomatoes(RT), TheMovieDB(TM_DB) and The Numbers(TN) after importing all the necessary libraries that wil be utilized throughout the entire process."
   ]
  },
  {
   "cell_type": "code",
   "execution_count": 1,
   "metadata": {},
   "outputs": [],
   "source": [
    "# importing all the necessary libraries \n",
    "import pandas as pd \n",
    "import numpy as np \n",
    "import seaborn as sns\n",
    "import matplotlib.pyplot as plt \n",
    "import sqlite3"
   ]
  },
  {
   "cell_type": "markdown",
   "metadata": {},
   "source": [
    "Import and Load the datasets to the notebook"
   ]
  },
  {
   "cell_type": "code",
   "execution_count": 2,
   "metadata": {},
   "outputs": [],
   "source": [
    "# Load the BOM dataset\n",
    "bom= pd.read_csv(\"zippedData/bom.movie_gross.csv.gz\")\n"
   ]
  },
  {
   "cell_type": "code",
   "execution_count": 3,
   "metadata": {},
   "outputs": [],
   "source": [
    "# Load the RT datasets\n",
    "rt_reviews= pd.read_csv('./zippedData/rt.reviews.tsv.gz',sep=\"\\t\", encoding = 'unicode_escape')\n",
    "rt_info= pd.read_csv('./zippedData/rt.movie_info.tsv.gz',sep=\"\\t\")\n"
   ]
  },
  {
   "cell_type": "code",
   "execution_count": 4,
   "metadata": {},
   "outputs": [],
   "source": [
    "# Load the TM-DB dataset\n",
    "tmdb= pd.read_csv(\"./zippedData/tmdb.movies.csv.gz\")"
   ]
  },
  {
   "cell_type": "code",
   "execution_count": 5,
   "metadata": {},
   "outputs": [],
   "source": [
    "# Load the TN dataset\n",
    "tn= pd.read_csv('./zippedData/tn.movie_budgets.csv.gz')\n"
   ]
  },
  {
   "cell_type": "markdown",
   "metadata": {},
   "source": [
    "The datasets that will be focused on throughout the entire analysis will only be four. The IMDB dataset will be droppoed due to the act that the information that we need can already be found in the remaining four."
   ]
  },
  {
   "cell_type": "markdown",
   "metadata": {},
   "source": [
    "### Data cleaning\n",
    "The next step will be cleaning of the data, this is where we get more information on the data such as its description and structure, then we move on to addressing issues such as, missing values and duplicates among others. By addressing missing values, casting datatypes, and handling compound entries, we can ensure the data is accurate and suitable for further exploration and insights generation.\n",
    "\n",
    "\n",
    "We will go through each of the datasets one by one, in order to identify the exact information that will be appropriate for the entirety of this project."
   ]
  },
  {
   "cell_type": "markdown",
   "metadata": {},
   "source": [
    "#### BOM Dataset"
   ]
  },
  {
   "cell_type": "code",
   "execution_count": 6,
   "metadata": {},
   "outputs": [
    {
     "name": "stdout",
     "output_type": "stream",
     "text": [
      "<class 'pandas.core.frame.DataFrame'>\n",
      "RangeIndex: 3387 entries, 0 to 3386\n",
      "Data columns (total 5 columns):\n",
      " #   Column          Non-Null Count  Dtype  \n",
      "---  ------          --------------  -----  \n",
      " 0   title           3387 non-null   object \n",
      " 1   studio          3382 non-null   object \n",
      " 2   domestic_gross  3359 non-null   float64\n",
      " 3   foreign_gross   2037 non-null   object \n",
      " 4   year            3387 non-null   int64  \n",
      "dtypes: float64(1), int64(1), object(3)\n",
      "memory usage: 132.4+ KB\n"
     ]
    },
    {
     "data": {
      "text/html": [
       "<div>\n",
       "<style scoped>\n",
       "    .dataframe tbody tr th:only-of-type {\n",
       "        vertical-align: middle;\n",
       "    }\n",
       "\n",
       "    .dataframe tbody tr th {\n",
       "        vertical-align: top;\n",
       "    }\n",
       "\n",
       "    .dataframe thead th {\n",
       "        text-align: right;\n",
       "    }\n",
       "</style>\n",
       "<table border=\"1\" class=\"dataframe\">\n",
       "  <thead>\n",
       "    <tr style=\"text-align: right;\">\n",
       "      <th></th>\n",
       "      <th>title</th>\n",
       "      <th>studio</th>\n",
       "      <th>domestic_gross</th>\n",
       "      <th>foreign_gross</th>\n",
       "      <th>year</th>\n",
       "    </tr>\n",
       "  </thead>\n",
       "  <tbody>\n",
       "    <tr>\n",
       "      <th>0</th>\n",
       "      <td>Toy Story 3</td>\n",
       "      <td>BV</td>\n",
       "      <td>415000000.0</td>\n",
       "      <td>652000000</td>\n",
       "      <td>2010</td>\n",
       "    </tr>\n",
       "    <tr>\n",
       "      <th>1</th>\n",
       "      <td>Alice in Wonderland (2010)</td>\n",
       "      <td>BV</td>\n",
       "      <td>334200000.0</td>\n",
       "      <td>691300000</td>\n",
       "      <td>2010</td>\n",
       "    </tr>\n",
       "    <tr>\n",
       "      <th>2</th>\n",
       "      <td>Harry Potter and the Deathly Hallows Part 1</td>\n",
       "      <td>WB</td>\n",
       "      <td>296000000.0</td>\n",
       "      <td>664300000</td>\n",
       "      <td>2010</td>\n",
       "    </tr>\n",
       "    <tr>\n",
       "      <th>3</th>\n",
       "      <td>Inception</td>\n",
       "      <td>WB</td>\n",
       "      <td>292600000.0</td>\n",
       "      <td>535700000</td>\n",
       "      <td>2010</td>\n",
       "    </tr>\n",
       "    <tr>\n",
       "      <th>4</th>\n",
       "      <td>Shrek Forever After</td>\n",
       "      <td>P/DW</td>\n",
       "      <td>238700000.0</td>\n",
       "      <td>513900000</td>\n",
       "      <td>2010</td>\n",
       "    </tr>\n",
       "  </tbody>\n",
       "</table>\n",
       "</div>"
      ],
      "text/plain": [
       "                                         title studio  domestic_gross  \\\n",
       "0                                  Toy Story 3     BV     415000000.0   \n",
       "1                   Alice in Wonderland (2010)     BV     334200000.0   \n",
       "2  Harry Potter and the Deathly Hallows Part 1     WB     296000000.0   \n",
       "3                                    Inception     WB     292600000.0   \n",
       "4                          Shrek Forever After   P/DW     238700000.0   \n",
       "\n",
       "  foreign_gross  year  \n",
       "0     652000000  2010  \n",
       "1     691300000  2010  \n",
       "2     664300000  2010  \n",
       "3     535700000  2010  \n",
       "4     513900000  2010  "
      ]
     },
     "execution_count": 6,
     "metadata": {},
     "output_type": "execute_result"
    }
   ],
   "source": [
    "# use .info() and .head() function to get basic information in this dataset\n",
    "bom.info()\n",
    "bom.head()"
   ]
  },
  {
   "cell_type": "code",
   "execution_count": 7,
   "metadata": {},
   "outputs": [
    {
     "name": "stderr",
     "output_type": "stream",
     "text": [
      "C:\\Users\\Administrator\\AppData\\Local\\Temp\\ipykernel_15268\\3325635365.py:11: SettingWithCopyWarning: \n",
      "A value is trying to be set on a copy of a slice from a DataFrame\n",
      "\n",
      "See the caveats in the documentation: https://pandas.pydata.org/pandas-docs/stable/user_guide/indexing.html#returning-a-view-versus-a-copy\n",
      "  bom_1.loc['foreign_gross'] = bom_1['foreign_gross'].str.replace(\",\",\"\").astype(float) # astype() returna a converted datatype\n"
     ]
    },
    {
     "data": {
      "text/html": [
       "<div>\n",
       "<style scoped>\n",
       "    .dataframe tbody tr th:only-of-type {\n",
       "        vertical-align: middle;\n",
       "    }\n",
       "\n",
       "    .dataframe tbody tr th {\n",
       "        vertical-align: top;\n",
       "    }\n",
       "\n",
       "    .dataframe thead th {\n",
       "        text-align: right;\n",
       "    }\n",
       "</style>\n",
       "<table border=\"1\" class=\"dataframe\">\n",
       "  <thead>\n",
       "    <tr style=\"text-align: right;\">\n",
       "      <th></th>\n",
       "      <th>title</th>\n",
       "      <th>studio</th>\n",
       "      <th>domestic_gross</th>\n",
       "      <th>foreign_gross</th>\n",
       "      <th>year</th>\n",
       "    </tr>\n",
       "  </thead>\n",
       "  <tbody>\n",
       "    <tr>\n",
       "      <th>0</th>\n",
       "      <td>Toy Story 3</td>\n",
       "      <td>BV</td>\n",
       "      <td>415000000.0</td>\n",
       "      <td>652000000</td>\n",
       "      <td>2010.0</td>\n",
       "    </tr>\n",
       "    <tr>\n",
       "      <th>1</th>\n",
       "      <td>Alice in Wonderland (2010)</td>\n",
       "      <td>BV</td>\n",
       "      <td>334200000.0</td>\n",
       "      <td>691300000</td>\n",
       "      <td>2010.0</td>\n",
       "    </tr>\n",
       "    <tr>\n",
       "      <th>2</th>\n",
       "      <td>Harry Potter and the Deathly Hallows Part 1</td>\n",
       "      <td>WB</td>\n",
       "      <td>296000000.0</td>\n",
       "      <td>664300000</td>\n",
       "      <td>2010.0</td>\n",
       "    </tr>\n",
       "    <tr>\n",
       "      <th>3</th>\n",
       "      <td>Inception</td>\n",
       "      <td>WB</td>\n",
       "      <td>292600000.0</td>\n",
       "      <td>535700000</td>\n",
       "      <td>2010.0</td>\n",
       "    </tr>\n",
       "    <tr>\n",
       "      <th>4</th>\n",
       "      <td>Shrek Forever After</td>\n",
       "      <td>P/DW</td>\n",
       "      <td>238700000.0</td>\n",
       "      <td>513900000</td>\n",
       "      <td>2010.0</td>\n",
       "    </tr>\n",
       "  </tbody>\n",
       "</table>\n",
       "</div>"
      ],
      "text/plain": [
       "                                         title studio  domestic_gross  \\\n",
       "0                                  Toy Story 3     BV     415000000.0   \n",
       "1                   Alice in Wonderland (2010)     BV     334200000.0   \n",
       "2  Harry Potter and the Deathly Hallows Part 1     WB     296000000.0   \n",
       "3                                    Inception     WB     292600000.0   \n",
       "4                          Shrek Forever After   P/DW     238700000.0   \n",
       "\n",
       "  foreign_gross    year  \n",
       "0     652000000  2010.0  \n",
       "1     691300000  2010.0  \n",
       "2     664300000  2010.0  \n",
       "3     535700000  2010.0  \n",
       "4     513900000  2010.0  "
      ]
     },
     "execution_count": 7,
     "metadata": {},
     "output_type": "execute_result"
    }
   ],
   "source": [
    "# Impute the median value to replace the null values\n",
    "bom['domestic_gross'].fillna(bom['domestic_gross'].median(),inplace= True)\n",
    "\n",
    "#For categorical data such as  studio impute null values with mode\n",
    "bom['studio'].fillna(bom['studio'].mode()[0], inplace= True) # inplace= true ensures the canges are permanent\n",
    "\n",
    "# drop the rows in the foreign_gross column which have null values\n",
    "bom_1= bom.dropna(subset=['foreign_gross'])\n",
    "\n",
    "# change the datatype of the same column to float\n",
    "bom_1.loc['foreign_gross'] = bom_1['foreign_gross'].str.replace(\",\",\"\").astype(float) # astype() returna a converted datatype\n",
    "\n",
    "bom_1.head()"
   ]
  },
  {
   "cell_type": "code",
   "execution_count": 8,
   "metadata": {},
   "outputs": [
    {
     "name": "stdout",
     "output_type": "stream",
     "text": [
      "<class 'pandas.core.frame.DataFrame'>\n",
      "Index: 2038 entries, 0 to foreign_gross\n",
      "Data columns (total 5 columns):\n",
      " #   Column          Non-Null Count  Dtype  \n",
      "---  ------          --------------  -----  \n",
      " 0   title           2037 non-null   object \n",
      " 1   studio          2037 non-null   object \n",
      " 2   domestic_gross  2037 non-null   float64\n",
      " 3   foreign_gross   2037 non-null   object \n",
      " 4   year            2037 non-null   float64\n",
      "dtypes: float64(2), object(3)\n",
      "memory usage: 95.5+ KB\n"
     ]
    },
    {
     "data": {
      "text/html": [
       "<div>\n",
       "<style scoped>\n",
       "    .dataframe tbody tr th:only-of-type {\n",
       "        vertical-align: middle;\n",
       "    }\n",
       "\n",
       "    .dataframe tbody tr th {\n",
       "        vertical-align: top;\n",
       "    }\n",
       "\n",
       "    .dataframe thead th {\n",
       "        text-align: right;\n",
       "    }\n",
       "</style>\n",
       "<table border=\"1\" class=\"dataframe\">\n",
       "  <thead>\n",
       "    <tr style=\"text-align: right;\">\n",
       "      <th></th>\n",
       "      <th>title</th>\n",
       "      <th>studio</th>\n",
       "      <th>domestic_gross</th>\n",
       "      <th>foreign_gross</th>\n",
       "      <th>year</th>\n",
       "    </tr>\n",
       "  </thead>\n",
       "  <tbody>\n",
       "    <tr>\n",
       "      <th>0</th>\n",
       "      <td>Toy Story 3</td>\n",
       "      <td>BV</td>\n",
       "      <td>415000000.0</td>\n",
       "      <td>652000000</td>\n",
       "      <td>2010.0</td>\n",
       "    </tr>\n",
       "    <tr>\n",
       "      <th>1</th>\n",
       "      <td>Alice in Wonderland (2010)</td>\n",
       "      <td>BV</td>\n",
       "      <td>334200000.0</td>\n",
       "      <td>691300000</td>\n",
       "      <td>2010.0</td>\n",
       "    </tr>\n",
       "    <tr>\n",
       "      <th>2</th>\n",
       "      <td>Harry Potter and the Deathly Hallows Part 1</td>\n",
       "      <td>WB</td>\n",
       "      <td>296000000.0</td>\n",
       "      <td>664300000</td>\n",
       "      <td>2010.0</td>\n",
       "    </tr>\n",
       "    <tr>\n",
       "      <th>3</th>\n",
       "      <td>Inception</td>\n",
       "      <td>WB</td>\n",
       "      <td>292600000.0</td>\n",
       "      <td>535700000</td>\n",
       "      <td>2010.0</td>\n",
       "    </tr>\n",
       "    <tr>\n",
       "      <th>4</th>\n",
       "      <td>Shrek Forever After</td>\n",
       "      <td>P/DW</td>\n",
       "      <td>238700000.0</td>\n",
       "      <td>513900000</td>\n",
       "      <td>2010.0</td>\n",
       "    </tr>\n",
       "  </tbody>\n",
       "</table>\n",
       "</div>"
      ],
      "text/plain": [
       "                                         title studio  domestic_gross  \\\n",
       "0                                  Toy Story 3     BV     415000000.0   \n",
       "1                   Alice in Wonderland (2010)     BV     334200000.0   \n",
       "2  Harry Potter and the Deathly Hallows Part 1     WB     296000000.0   \n",
       "3                                    Inception     WB     292600000.0   \n",
       "4                          Shrek Forever After   P/DW     238700000.0   \n",
       "\n",
       "  foreign_gross    year  \n",
       "0     652000000  2010.0  \n",
       "1     691300000  2010.0  \n",
       "2     664300000  2010.0  \n",
       "3     535700000  2010.0  \n",
       "4     513900000  2010.0  "
      ]
     },
     "execution_count": 8,
     "metadata": {},
     "output_type": "execute_result"
    }
   ],
   "source": [
    "# Confirming that there are no missing values\n",
    "bom_1.info()\n",
    "bom_1.head()"
   ]
  },
  {
   "cell_type": "markdown",
   "metadata": {},
   "source": [
    "#### RT_Reviews and RT_Info Datasets"
   ]
  },
  {
   "cell_type": "code",
   "execution_count": 9,
   "metadata": {},
   "outputs": [
    {
     "name": "stdout",
     "output_type": "stream",
     "text": [
      "<class 'pandas.core.frame.DataFrame'>\n",
      "RangeIndex: 54432 entries, 0 to 54431\n",
      "Data columns (total 8 columns):\n",
      " #   Column      Non-Null Count  Dtype \n",
      "---  ------      --------------  ----- \n",
      " 0   id          54432 non-null  int64 \n",
      " 1   review      48869 non-null  object\n",
      " 2   rating      40915 non-null  object\n",
      " 3   fresh       54432 non-null  object\n",
      " 4   critic      51710 non-null  object\n",
      " 5   top_critic  54432 non-null  int64 \n",
      " 6   publisher   54123 non-null  object\n",
      " 7   date        54432 non-null  object\n",
      "dtypes: int64(2), object(6)\n",
      "memory usage: 3.3+ MB\n"
     ]
    },
    {
     "data": {
      "text/html": [
       "<div>\n",
       "<style scoped>\n",
       "    .dataframe tbody tr th:only-of-type {\n",
       "        vertical-align: middle;\n",
       "    }\n",
       "\n",
       "    .dataframe tbody tr th {\n",
       "        vertical-align: top;\n",
       "    }\n",
       "\n",
       "    .dataframe thead th {\n",
       "        text-align: right;\n",
       "    }\n",
       "</style>\n",
       "<table border=\"1\" class=\"dataframe\">\n",
       "  <thead>\n",
       "    <tr style=\"text-align: right;\">\n",
       "      <th></th>\n",
       "      <th>id</th>\n",
       "      <th>review</th>\n",
       "      <th>rating</th>\n",
       "      <th>fresh</th>\n",
       "      <th>critic</th>\n",
       "      <th>top_critic</th>\n",
       "      <th>publisher</th>\n",
       "      <th>date</th>\n",
       "    </tr>\n",
       "  </thead>\n",
       "  <tbody>\n",
       "    <tr>\n",
       "      <th>0</th>\n",
       "      <td>3</td>\n",
       "      <td>A distinctly gallows take on contemporary fina...</td>\n",
       "      <td>3/5</td>\n",
       "      <td>fresh</td>\n",
       "      <td>PJ Nabarro</td>\n",
       "      <td>0</td>\n",
       "      <td>Patrick Nabarro</td>\n",
       "      <td>November 10, 2018</td>\n",
       "    </tr>\n",
       "    <tr>\n",
       "      <th>1</th>\n",
       "      <td>3</td>\n",
       "      <td>It's an allegory in search of a meaning that n...</td>\n",
       "      <td>NaN</td>\n",
       "      <td>rotten</td>\n",
       "      <td>Annalee Newitz</td>\n",
       "      <td>0</td>\n",
       "      <td>io9.com</td>\n",
       "      <td>May 23, 2018</td>\n",
       "    </tr>\n",
       "    <tr>\n",
       "      <th>2</th>\n",
       "      <td>3</td>\n",
       "      <td>... life lived in a bubble in financial dealin...</td>\n",
       "      <td>NaN</td>\n",
       "      <td>fresh</td>\n",
       "      <td>Sean Axmaker</td>\n",
       "      <td>0</td>\n",
       "      <td>Stream on Demand</td>\n",
       "      <td>January 4, 2018</td>\n",
       "    </tr>\n",
       "    <tr>\n",
       "      <th>3</th>\n",
       "      <td>3</td>\n",
       "      <td>Continuing along a line introduced in last yea...</td>\n",
       "      <td>NaN</td>\n",
       "      <td>fresh</td>\n",
       "      <td>Daniel Kasman</td>\n",
       "      <td>0</td>\n",
       "      <td>MUBI</td>\n",
       "      <td>November 16, 2017</td>\n",
       "    </tr>\n",
       "    <tr>\n",
       "      <th>4</th>\n",
       "      <td>3</td>\n",
       "      <td>... a perverse twist on neorealism...</td>\n",
       "      <td>NaN</td>\n",
       "      <td>fresh</td>\n",
       "      <td>NaN</td>\n",
       "      <td>0</td>\n",
       "      <td>Cinema Scope</td>\n",
       "      <td>October 12, 2017</td>\n",
       "    </tr>\n",
       "  </tbody>\n",
       "</table>\n",
       "</div>"
      ],
      "text/plain": [
       "   id                                             review rating   fresh  \\\n",
       "0   3  A distinctly gallows take on contemporary fina...    3/5   fresh   \n",
       "1   3  It's an allegory in search of a meaning that n...    NaN  rotten   \n",
       "2   3  ... life lived in a bubble in financial dealin...    NaN   fresh   \n",
       "3   3  Continuing along a line introduced in last yea...    NaN   fresh   \n",
       "4   3             ... a perverse twist on neorealism...     NaN   fresh   \n",
       "\n",
       "           critic  top_critic         publisher               date  \n",
       "0      PJ Nabarro           0   Patrick Nabarro  November 10, 2018  \n",
       "1  Annalee Newitz           0           io9.com       May 23, 2018  \n",
       "2    Sean Axmaker           0  Stream on Demand    January 4, 2018  \n",
       "3   Daniel Kasman           0              MUBI  November 16, 2017  \n",
       "4             NaN           0      Cinema Scope   October 12, 2017  "
      ]
     },
     "execution_count": 9,
     "metadata": {},
     "output_type": "execute_result"
    }
   ],
   "source": [
    "# use .info() and .head() function to get basic information in this dataset\n",
    "rt_reviews.info()\n",
    "rt_reviews.head()\n",
    "\n"
   ]
  },
  {
   "cell_type": "code",
   "execution_count": 10,
   "metadata": {},
   "outputs": [],
   "source": [
    "# Chage the datatypes to the appropriate type that will be more applicable during the analysis\n",
    "rt_reviews['review'] = rt_reviews['review'].astype(str)\n",
    "rt_reviews['publisher'] = rt_reviews['publisher'].astype(str)\n",
    "rt_reviews['date'] = pd.to_datetime(rt_reviews['date'])\n"
   ]
  },
  {
   "cell_type": "markdown",
   "metadata": {},
   "source": [
    " According to the information provided, there are some missing values with rating, review and critic topping the list. Although important, we may have to drop some of themas we continue with the analysis, for those with 10% or less missing values, we will impute accordingly."
   ]
  },
  {
   "cell_type": "code",
   "execution_count": 11,
   "metadata": {},
   "outputs": [
    {
     "data": {
      "text/plain": [
       "0        False\n",
       "1        False\n",
       "2        False\n",
       "3        False\n",
       "4        False\n",
       "         ...  \n",
       "54427    False\n",
       "54428    False\n",
       "54429    False\n",
       "54430    False\n",
       "54431    False\n",
       "Length: 54432, dtype: bool"
      ]
     },
     "execution_count": 11,
     "metadata": {},
     "output_type": "execute_result"
    }
   ],
   "source": [
    "# check for duplicates\n",
    "(rt_reviews.duplicated())# there are no duplicated values"
   ]
  },
  {
   "cell_type": "code",
   "execution_count": 12,
   "metadata": {},
   "outputs": [],
   "source": [
    "# Drop columns with high missing values \n",
    "rt_reviews.drop(columns = ['rating','critic'], inplace= True)"
   ]
  },
  {
   "cell_type": "markdown",
   "metadata": {},
   "source": [
    "For the rt_info dataset there are no duplicates however there are some missing values that need to be addressed by either dropping them or imputing values"
   ]
  },
  {
   "cell_type": "code",
   "execution_count": 13,
   "metadata": {},
   "outputs": [
    {
     "name": "stdout",
     "output_type": "stream",
     "text": [
      "<class 'pandas.core.frame.DataFrame'>\n",
      "RangeIndex: 1560 entries, 0 to 1559\n",
      "Data columns (total 12 columns):\n",
      " #   Column        Non-Null Count  Dtype \n",
      "---  ------        --------------  ----- \n",
      " 0   id            1560 non-null   int64 \n",
      " 1   synopsis      1498 non-null   object\n",
      " 2   rating        1557 non-null   object\n",
      " 3   genre         1552 non-null   object\n",
      " 4   director      1361 non-null   object\n",
      " 5   writer        1111 non-null   object\n",
      " 6   theater_date  1201 non-null   object\n",
      " 7   dvd_date      1201 non-null   object\n",
      " 8   currency      340 non-null    object\n",
      " 9   box_office    340 non-null    object\n",
      " 10  runtime       1530 non-null   object\n",
      " 11  studio        494 non-null    object\n",
      "dtypes: int64(1), object(11)\n",
      "memory usage: 146.4+ KB\n"
     ]
    },
    {
     "data": {
      "text/html": [
       "<div>\n",
       "<style scoped>\n",
       "    .dataframe tbody tr th:only-of-type {\n",
       "        vertical-align: middle;\n",
       "    }\n",
       "\n",
       "    .dataframe tbody tr th {\n",
       "        vertical-align: top;\n",
       "    }\n",
       "\n",
       "    .dataframe thead th {\n",
       "        text-align: right;\n",
       "    }\n",
       "</style>\n",
       "<table border=\"1\" class=\"dataframe\">\n",
       "  <thead>\n",
       "    <tr style=\"text-align: right;\">\n",
       "      <th></th>\n",
       "      <th>id</th>\n",
       "      <th>synopsis</th>\n",
       "      <th>rating</th>\n",
       "      <th>genre</th>\n",
       "      <th>director</th>\n",
       "      <th>writer</th>\n",
       "      <th>theater_date</th>\n",
       "      <th>dvd_date</th>\n",
       "      <th>currency</th>\n",
       "      <th>box_office</th>\n",
       "      <th>runtime</th>\n",
       "      <th>studio</th>\n",
       "    </tr>\n",
       "  </thead>\n",
       "  <tbody>\n",
       "    <tr>\n",
       "      <th>0</th>\n",
       "      <td>1</td>\n",
       "      <td>This gritty, fast-paced, and innovative police...</td>\n",
       "      <td>R</td>\n",
       "      <td>Action and Adventure|Classics|Drama</td>\n",
       "      <td>William Friedkin</td>\n",
       "      <td>Ernest Tidyman</td>\n",
       "      <td>Oct 9, 1971</td>\n",
       "      <td>Sep 25, 2001</td>\n",
       "      <td>NaN</td>\n",
       "      <td>NaN</td>\n",
       "      <td>104 minutes</td>\n",
       "      <td>NaN</td>\n",
       "    </tr>\n",
       "    <tr>\n",
       "      <th>1</th>\n",
       "      <td>3</td>\n",
       "      <td>New York City, not-too-distant-future: Eric Pa...</td>\n",
       "      <td>R</td>\n",
       "      <td>Drama|Science Fiction and Fantasy</td>\n",
       "      <td>David Cronenberg</td>\n",
       "      <td>David Cronenberg|Don DeLillo</td>\n",
       "      <td>Aug 17, 2012</td>\n",
       "      <td>Jan 1, 2013</td>\n",
       "      <td>$</td>\n",
       "      <td>600,000</td>\n",
       "      <td>108 minutes</td>\n",
       "      <td>Entertainment One</td>\n",
       "    </tr>\n",
       "    <tr>\n",
       "      <th>2</th>\n",
       "      <td>5</td>\n",
       "      <td>Illeana Douglas delivers a superb performance ...</td>\n",
       "      <td>R</td>\n",
       "      <td>Drama|Musical and Performing Arts</td>\n",
       "      <td>Allison Anders</td>\n",
       "      <td>Allison Anders</td>\n",
       "      <td>Sep 13, 1996</td>\n",
       "      <td>Apr 18, 2000</td>\n",
       "      <td>NaN</td>\n",
       "      <td>NaN</td>\n",
       "      <td>116 minutes</td>\n",
       "      <td>NaN</td>\n",
       "    </tr>\n",
       "    <tr>\n",
       "      <th>3</th>\n",
       "      <td>6</td>\n",
       "      <td>Michael Douglas runs afoul of a treacherous su...</td>\n",
       "      <td>R</td>\n",
       "      <td>Drama|Mystery and Suspense</td>\n",
       "      <td>Barry Levinson</td>\n",
       "      <td>Paul Attanasio|Michael Crichton</td>\n",
       "      <td>Dec 9, 1994</td>\n",
       "      <td>Aug 27, 1997</td>\n",
       "      <td>NaN</td>\n",
       "      <td>NaN</td>\n",
       "      <td>128 minutes</td>\n",
       "      <td>NaN</td>\n",
       "    </tr>\n",
       "    <tr>\n",
       "      <th>4</th>\n",
       "      <td>7</td>\n",
       "      <td>NaN</td>\n",
       "      <td>NR</td>\n",
       "      <td>Drama|Romance</td>\n",
       "      <td>Rodney Bennett</td>\n",
       "      <td>Giles Cooper</td>\n",
       "      <td>NaN</td>\n",
       "      <td>NaN</td>\n",
       "      <td>NaN</td>\n",
       "      <td>NaN</td>\n",
       "      <td>200 minutes</td>\n",
       "      <td>NaN</td>\n",
       "    </tr>\n",
       "  </tbody>\n",
       "</table>\n",
       "</div>"
      ],
      "text/plain": [
       "   id                                           synopsis rating  \\\n",
       "0   1  This gritty, fast-paced, and innovative police...      R   \n",
       "1   3  New York City, not-too-distant-future: Eric Pa...      R   \n",
       "2   5  Illeana Douglas delivers a superb performance ...      R   \n",
       "3   6  Michael Douglas runs afoul of a treacherous su...      R   \n",
       "4   7                                                NaN     NR   \n",
       "\n",
       "                                 genre          director  \\\n",
       "0  Action and Adventure|Classics|Drama  William Friedkin   \n",
       "1    Drama|Science Fiction and Fantasy  David Cronenberg   \n",
       "2    Drama|Musical and Performing Arts    Allison Anders   \n",
       "3           Drama|Mystery and Suspense    Barry Levinson   \n",
       "4                        Drama|Romance    Rodney Bennett   \n",
       "\n",
       "                            writer  theater_date      dvd_date currency  \\\n",
       "0                   Ernest Tidyman   Oct 9, 1971  Sep 25, 2001      NaN   \n",
       "1     David Cronenberg|Don DeLillo  Aug 17, 2012   Jan 1, 2013        $   \n",
       "2                   Allison Anders  Sep 13, 1996  Apr 18, 2000      NaN   \n",
       "3  Paul Attanasio|Michael Crichton   Dec 9, 1994  Aug 27, 1997      NaN   \n",
       "4                     Giles Cooper           NaN           NaN      NaN   \n",
       "\n",
       "  box_office      runtime             studio  \n",
       "0        NaN  104 minutes                NaN  \n",
       "1    600,000  108 minutes  Entertainment One  \n",
       "2        NaN  116 minutes                NaN  \n",
       "3        NaN  128 minutes                NaN  \n",
       "4        NaN  200 minutes                NaN  "
      ]
     },
     "execution_count": 13,
     "metadata": {},
     "output_type": "execute_result"
    }
   ],
   "source": [
    "# Check the basic information of the dataset\n",
    "rt_info.info()\n",
    "rt_info.head()\n"
   ]
  },
  {
   "cell_type": "code",
   "execution_count": 14,
   "metadata": {},
   "outputs": [],
   "source": [
    "# change the columns to the right datatype\n",
    "# Categorical data\n",
    "rt_info['rating']= rt_info['rating'].astype('category')\n",
    "rt_info['genre']= rt_info['genre'].astype('category')\n",
    "rt_info['studio']= rt_info['studio'].astype('category')\n",
    "\n",
    "# to_datetime function\n",
    "rt_info['theater_date']= pd.to_datetime(rt_info['theater_date'], errors ='coerce') #prevents pandas from raising an error due to the NAN values\n",
    "rt_info['dvd_date']= pd.to_datetime(rt_info['dvd_date'], errors ='coerce')\n",
    "\n",
    "# Convert to strings\n",
    "rt_info['director']= rt_info['director'].astype(str)\n",
    "rt_info['writer']= rt_info['writer'].astype(str)\n"
   ]
  },
  {
   "cell_type": "code",
   "execution_count": 15,
   "metadata": {},
   "outputs": [],
   "source": [
    "# Change the column name from runtime to runtime in minutes\n",
    "rt_info = rt_info.rename(columns= { 'runtime': 'runtime in minutes'}) # This is so that we know that the values in the cilumns are in minutes\n",
    "\n",
    "# remove the word minutes\n",
    "rt_info['runtime in minutes'] = rt_info['runtime in minutes'].str.replace(' minutes', '')\n",
    "\n",
    "#convert to integers\n",
    "rt_info['runtime in minutes'] = pd.to_numeric( rt_info[ 'runtime in minutes'], errors ='coerce')"
   ]
  },
  {
   "cell_type": "code",
   "execution_count": 16,
   "metadata": {},
   "outputs": [
    {
     "data": {
      "text/plain": [
       "0       104.0\n",
       "1       108.0\n",
       "2       116.0\n",
       "3       128.0\n",
       "4       200.0\n",
       "        ...  \n",
       "1555    106.0\n",
       "1556     88.0\n",
       "1557    111.0\n",
       "1558    101.0\n",
       "1559     94.0\n",
       "Name: runtime in minutes, Length: 1560, dtype: float64"
      ]
     },
     "execution_count": 16,
     "metadata": {},
     "output_type": "execute_result"
    }
   ],
   "source": [
    "# Impute missing values in the synopsis column with the mode \n",
    "rt_info['synopsis'] = rt_info['synopsis'].fillna(rt_info['synopsis'].mode()[0])\n",
    "\n",
    "# The fillna() function is utilized to impute the missing values with values called upon\n",
    "# Impute missing values in the runtime column with the mode\n",
    "rt_info['runtime in minutes'].fillna(rt_info['runtime in minutes'].median())"
   ]
  },
  {
   "cell_type": "code",
   "execution_count": 17,
   "metadata": {},
   "outputs": [
    {
     "name": "stdout",
     "output_type": "stream",
     "text": [
      "<class 'pandas.core.frame.DataFrame'>\n",
      "RangeIndex: 1560 entries, 0 to 1559\n",
      "Data columns (total 12 columns):\n",
      " #   Column              Non-Null Count  Dtype         \n",
      "---  ------              --------------  -----         \n",
      " 0   id                  1560 non-null   int64         \n",
      " 1   synopsis            1560 non-null   object        \n",
      " 2   rating              1557 non-null   category      \n",
      " 3   genre               1552 non-null   category      \n",
      " 4   director            1560 non-null   object        \n",
      " 5   writer              1560 non-null   object        \n",
      " 6   theater_date        1201 non-null   datetime64[ns]\n",
      " 7   dvd_date            1201 non-null   datetime64[ns]\n",
      " 8   currency            340 non-null    object        \n",
      " 9   box_office          340 non-null    object        \n",
      " 10  runtime in minutes  1530 non-null   float64       \n",
      " 11  studio              494 non-null    category      \n",
      "dtypes: category(3), datetime64[ns](2), float64(1), int64(1), object(5)\n",
      "memory usage: 137.8+ KB\n"
     ]
    }
   ],
   "source": [
    "rt_info.info()"
   ]
  },
  {
   "cell_type": "markdown",
   "metadata": {},
   "source": [
    "#### TMDB Dataset"
   ]
  },
  {
   "cell_type": "code",
   "execution_count": 18,
   "metadata": {},
   "outputs": [
    {
     "name": "stdout",
     "output_type": "stream",
     "text": [
      "<class 'pandas.core.frame.DataFrame'>\n",
      "RangeIndex: 26517 entries, 0 to 26516\n",
      "Data columns (total 10 columns):\n",
      " #   Column             Non-Null Count  Dtype  \n",
      "---  ------             --------------  -----  \n",
      " 0   Unnamed: 0         26517 non-null  int64  \n",
      " 1   genre_ids          26517 non-null  object \n",
      " 2   id                 26517 non-null  int64  \n",
      " 3   original_language  26517 non-null  object \n",
      " 4   original_title     26517 non-null  object \n",
      " 5   popularity         26517 non-null  float64\n",
      " 6   release_date       26517 non-null  object \n",
      " 7   title              26517 non-null  object \n",
      " 8   vote_average       26517 non-null  float64\n",
      " 9   vote_count         26517 non-null  int64  \n",
      "dtypes: float64(2), int64(3), object(5)\n",
      "memory usage: 2.0+ MB\n"
     ]
    },
    {
     "data": {
      "text/html": [
       "<div>\n",
       "<style scoped>\n",
       "    .dataframe tbody tr th:only-of-type {\n",
       "        vertical-align: middle;\n",
       "    }\n",
       "\n",
       "    .dataframe tbody tr th {\n",
       "        vertical-align: top;\n",
       "    }\n",
       "\n",
       "    .dataframe thead th {\n",
       "        text-align: right;\n",
       "    }\n",
       "</style>\n",
       "<table border=\"1\" class=\"dataframe\">\n",
       "  <thead>\n",
       "    <tr style=\"text-align: right;\">\n",
       "      <th></th>\n",
       "      <th>Unnamed: 0</th>\n",
       "      <th>genre_ids</th>\n",
       "      <th>id</th>\n",
       "      <th>original_language</th>\n",
       "      <th>original_title</th>\n",
       "      <th>popularity</th>\n",
       "      <th>release_date</th>\n",
       "      <th>title</th>\n",
       "      <th>vote_average</th>\n",
       "      <th>vote_count</th>\n",
       "    </tr>\n",
       "  </thead>\n",
       "  <tbody>\n",
       "    <tr>\n",
       "      <th>0</th>\n",
       "      <td>0</td>\n",
       "      <td>[12, 14, 10751]</td>\n",
       "      <td>12444</td>\n",
       "      <td>en</td>\n",
       "      <td>Harry Potter and the Deathly Hallows: Part 1</td>\n",
       "      <td>33.533</td>\n",
       "      <td>2010-11-19</td>\n",
       "      <td>Harry Potter and the Deathly Hallows: Part 1</td>\n",
       "      <td>7.7</td>\n",
       "      <td>10788</td>\n",
       "    </tr>\n",
       "    <tr>\n",
       "      <th>1</th>\n",
       "      <td>1</td>\n",
       "      <td>[14, 12, 16, 10751]</td>\n",
       "      <td>10191</td>\n",
       "      <td>en</td>\n",
       "      <td>How to Train Your Dragon</td>\n",
       "      <td>28.734</td>\n",
       "      <td>2010-03-26</td>\n",
       "      <td>How to Train Your Dragon</td>\n",
       "      <td>7.7</td>\n",
       "      <td>7610</td>\n",
       "    </tr>\n",
       "    <tr>\n",
       "      <th>2</th>\n",
       "      <td>2</td>\n",
       "      <td>[12, 28, 878]</td>\n",
       "      <td>10138</td>\n",
       "      <td>en</td>\n",
       "      <td>Iron Man 2</td>\n",
       "      <td>28.515</td>\n",
       "      <td>2010-05-07</td>\n",
       "      <td>Iron Man 2</td>\n",
       "      <td>6.8</td>\n",
       "      <td>12368</td>\n",
       "    </tr>\n",
       "    <tr>\n",
       "      <th>3</th>\n",
       "      <td>3</td>\n",
       "      <td>[16, 35, 10751]</td>\n",
       "      <td>862</td>\n",
       "      <td>en</td>\n",
       "      <td>Toy Story</td>\n",
       "      <td>28.005</td>\n",
       "      <td>1995-11-22</td>\n",
       "      <td>Toy Story</td>\n",
       "      <td>7.9</td>\n",
       "      <td>10174</td>\n",
       "    </tr>\n",
       "    <tr>\n",
       "      <th>4</th>\n",
       "      <td>4</td>\n",
       "      <td>[28, 878, 12]</td>\n",
       "      <td>27205</td>\n",
       "      <td>en</td>\n",
       "      <td>Inception</td>\n",
       "      <td>27.920</td>\n",
       "      <td>2010-07-16</td>\n",
       "      <td>Inception</td>\n",
       "      <td>8.3</td>\n",
       "      <td>22186</td>\n",
       "    </tr>\n",
       "  </tbody>\n",
       "</table>\n",
       "</div>"
      ],
      "text/plain": [
       "   Unnamed: 0            genre_ids     id original_language  \\\n",
       "0           0      [12, 14, 10751]  12444                en   \n",
       "1           1  [14, 12, 16, 10751]  10191                en   \n",
       "2           2        [12, 28, 878]  10138                en   \n",
       "3           3      [16, 35, 10751]    862                en   \n",
       "4           4        [28, 878, 12]  27205                en   \n",
       "\n",
       "                                 original_title  popularity release_date  \\\n",
       "0  Harry Potter and the Deathly Hallows: Part 1      33.533   2010-11-19   \n",
       "1                      How to Train Your Dragon      28.734   2010-03-26   \n",
       "2                                    Iron Man 2      28.515   2010-05-07   \n",
       "3                                     Toy Story      28.005   1995-11-22   \n",
       "4                                     Inception      27.920   2010-07-16   \n",
       "\n",
       "                                          title  vote_average  vote_count  \n",
       "0  Harry Potter and the Deathly Hallows: Part 1           7.7       10788  \n",
       "1                      How to Train Your Dragon           7.7        7610  \n",
       "2                                    Iron Man 2           6.8       12368  \n",
       "3                                     Toy Story           7.9       10174  \n",
       "4                                     Inception           8.3       22186  "
      ]
     },
     "execution_count": 18,
     "metadata": {},
     "output_type": "execute_result"
    }
   ],
   "source": [
    "# Use .info() to get the information on  the dataset\n",
    "tmdb.info()\n",
    "tmdb.head()\n"
   ]
  },
  {
   "cell_type": "code",
   "execution_count": 19,
   "metadata": {},
   "outputs": [
    {
     "data": {
      "text/plain": [
       "0        False\n",
       "1        False\n",
       "2        False\n",
       "3        False\n",
       "4        False\n",
       "         ...  \n",
       "26512    False\n",
       "26513    False\n",
       "26514    False\n",
       "26515    False\n",
       "26516    False\n",
       "Length: 26517, dtype: bool"
      ]
     },
     "execution_count": 19,
     "metadata": {},
     "output_type": "execute_result"
    }
   ],
   "source": [
    "tmdb.duplicated()"
   ]
  },
  {
   "cell_type": "markdown",
   "metadata": {},
   "source": [
    "This dataset has no missing values or any duplicates, which means that the only tampering that will be done will be when choosing which columns will be utilized. "
   ]
  },
  {
   "cell_type": "markdown",
   "metadata": {},
   "source": [
    "#### TN Dataset"
   ]
  },
  {
   "cell_type": "code",
   "execution_count": 20,
   "metadata": {},
   "outputs": [
    {
     "name": "stdout",
     "output_type": "stream",
     "text": [
      "<class 'pandas.core.frame.DataFrame'>\n",
      "RangeIndex: 5782 entries, 0 to 5781\n",
      "Data columns (total 6 columns):\n",
      " #   Column             Non-Null Count  Dtype \n",
      "---  ------             --------------  ----- \n",
      " 0   id                 5782 non-null   int64 \n",
      " 1   release_date       5782 non-null   object\n",
      " 2   movie              5782 non-null   object\n",
      " 3   production_budget  5782 non-null   object\n",
      " 4   domestic_gross     5782 non-null   object\n",
      " 5   worldwide_gross    5782 non-null   object\n",
      "dtypes: int64(1), object(5)\n",
      "memory usage: 271.2+ KB\n"
     ]
    },
    {
     "data": {
      "text/html": [
       "<div>\n",
       "<style scoped>\n",
       "    .dataframe tbody tr th:only-of-type {\n",
       "        vertical-align: middle;\n",
       "    }\n",
       "\n",
       "    .dataframe tbody tr th {\n",
       "        vertical-align: top;\n",
       "    }\n",
       "\n",
       "    .dataframe thead th {\n",
       "        text-align: right;\n",
       "    }\n",
       "</style>\n",
       "<table border=\"1\" class=\"dataframe\">\n",
       "  <thead>\n",
       "    <tr style=\"text-align: right;\">\n",
       "      <th></th>\n",
       "      <th>id</th>\n",
       "      <th>release_date</th>\n",
       "      <th>movie</th>\n",
       "      <th>production_budget</th>\n",
       "      <th>domestic_gross</th>\n",
       "      <th>worldwide_gross</th>\n",
       "    </tr>\n",
       "  </thead>\n",
       "  <tbody>\n",
       "    <tr>\n",
       "      <th>0</th>\n",
       "      <td>1</td>\n",
       "      <td>Dec 18, 2009</td>\n",
       "      <td>Avatar</td>\n",
       "      <td>$425,000,000</td>\n",
       "      <td>$760,507,625</td>\n",
       "      <td>$2,776,345,279</td>\n",
       "    </tr>\n",
       "    <tr>\n",
       "      <th>1</th>\n",
       "      <td>2</td>\n",
       "      <td>May 20, 2011</td>\n",
       "      <td>Pirates of the Caribbean: On Stranger Tides</td>\n",
       "      <td>$410,600,000</td>\n",
       "      <td>$241,063,875</td>\n",
       "      <td>$1,045,663,875</td>\n",
       "    </tr>\n",
       "    <tr>\n",
       "      <th>2</th>\n",
       "      <td>3</td>\n",
       "      <td>Jun 7, 2019</td>\n",
       "      <td>Dark Phoenix</td>\n",
       "      <td>$350,000,000</td>\n",
       "      <td>$42,762,350</td>\n",
       "      <td>$149,762,350</td>\n",
       "    </tr>\n",
       "    <tr>\n",
       "      <th>3</th>\n",
       "      <td>4</td>\n",
       "      <td>May 1, 2015</td>\n",
       "      <td>Avengers: Age of Ultron</td>\n",
       "      <td>$330,600,000</td>\n",
       "      <td>$459,005,868</td>\n",
       "      <td>$1,403,013,963</td>\n",
       "    </tr>\n",
       "    <tr>\n",
       "      <th>4</th>\n",
       "      <td>5</td>\n",
       "      <td>Dec 15, 2017</td>\n",
       "      <td>Star Wars Ep. VIII: The Last Jedi</td>\n",
       "      <td>$317,000,000</td>\n",
       "      <td>$620,181,382</td>\n",
       "      <td>$1,316,721,747</td>\n",
       "    </tr>\n",
       "  </tbody>\n",
       "</table>\n",
       "</div>"
      ],
      "text/plain": [
       "   id  release_date                                        movie  \\\n",
       "0   1  Dec 18, 2009                                       Avatar   \n",
       "1   2  May 20, 2011  Pirates of the Caribbean: On Stranger Tides   \n",
       "2   3   Jun 7, 2019                                 Dark Phoenix   \n",
       "3   4   May 1, 2015                      Avengers: Age of Ultron   \n",
       "4   5  Dec 15, 2017            Star Wars Ep. VIII: The Last Jedi   \n",
       "\n",
       "  production_budget domestic_gross worldwide_gross  \n",
       "0      $425,000,000   $760,507,625  $2,776,345,279  \n",
       "1      $410,600,000   $241,063,875  $1,045,663,875  \n",
       "2      $350,000,000    $42,762,350    $149,762,350  \n",
       "3      $330,600,000   $459,005,868  $1,403,013,963  \n",
       "4      $317,000,000   $620,181,382  $1,316,721,747  "
      ]
     },
     "execution_count": 20,
     "metadata": {},
     "output_type": "execute_result"
    }
   ],
   "source": [
    "tn.info()\n",
    "tn.head()"
   ]
  },
  {
   "cell_type": "code",
   "execution_count": 21,
   "metadata": {},
   "outputs": [],
   "source": [
    "# Change the datatype accordingly\n",
    "tn['release_date'] = pd.to_datetime(tn['release_date'])\n",
    "tn['production_budget'] = tn['production_budget'].str.replace('$','').str.replace(',','').astype(float) # Eliminate te dollar signs and change the datatypes to floats\n",
    "tn['domestic_gross'] = tn['domestic_gross'].str.replace('$','').str.replace(',','').astype(float)\n",
    "tn['worldwide_gross'] = tn['worldwide_gross'].str.replace('$','').str.replace(',','').astype(float)"
   ]
  },
  {
   "cell_type": "markdown",
   "metadata": {},
   "source": [
    "This dataset only required its datatypes to be changed to the appropriate datatype that would be condusive for the analysis. "
   ]
  },
  {
   "cell_type": "markdown",
   "metadata": {},
   "source": [
    "### Data Selection\n",
    " \n",
    "The following features were identified from the above datasets as they have shown potential in having the necessary data required to answer the formulated business questions(*Business understanding Section*)\n",
    "   1. BOM Dataset\n",
    "      * Year\n",
    "      * Domestic gross\n",
    "      * Foreign gross\n",
    "   2. RT_reviews and RT_info Datasets\n",
    "      * Rating\n",
    "      * Genre\n",
    "      * Director\n",
    "      * Runtime in minutes\n",
    "   4. TMDB Dataset\n",
    "      * Popularity\n",
    "      * Release Date\n",
    "      * Vote Average\n",
    "      * Vote Count\n",
    "   5. TN Dataset\n",
    "      * Movie name\n",
    "      * Production budget\n",
    "      * Domestic gross\n",
    "      * Worldwide gross\n",
    "      * Release Date\n",
    "   "
   ]
  },
  {
   "cell_type": "markdown",
   "metadata": {},
   "source": [
    "### Merging  the Datasets\n",
    " The next step is crucial in this analysis. Now that the datasets have been loaded and we have explored each and every one, we can now combine them into a single dataset that will allow us to analyze the relationships between the variables and have a comprehensive undestanding.\n",
    "\n",
    "In this section, the pandas library will be utilized to merge the datasets based on common columns,and we will be required to handle any missing values or duplicates that may arise."
   ]
  },
  {
   "cell_type": "code",
   "execution_count": 22,
   "metadata": {},
   "outputs": [],
   "source": [
    "# Convert the release_date column in tmdb to datetime format\n",
    "tmdb['release_date'] = pd.to_datetime(tmdb['release_date'])"
   ]
  },
  {
   "cell_type": "code",
   "execution_count": 23,
   "metadata": {},
   "outputs": [],
   "source": [
    "# Convert the theater_date column to datetime format\n",
    "rt_info['theater_date'] = pd.to_datetime(rt_info['theater_date'])\n",
    "\n",
    "# Rename the theater_date column to release_date\n",
    "rt_info = rt_info.rename(columns={'theater_date': 'release_date'})"
   ]
  },
  {
   "cell_type": "code",
   "execution_count": 24,
   "metadata": {},
   "outputs": [],
   "source": [
    "# Merge tmdb and rt_info on the release_date column\n",
    "tmdb_rt_info = pd.merge(tmdb, rt_info, on='release_date', how='inner' )\n",
    "# The common column between tmdb and rt_info is the  release date to theaters"
   ]
  },
  {
   "cell_type": "code",
   "execution_count": 25,
   "metadata": {},
   "outputs": [
    {
     "data": {
      "text/plain": [
       "\" \\nhow = 'inner' it specifies a merge type, whic only includes rows where there are matches in both the \\nleft and right dataframes.\\nright_on = specifies the name of the columnin the right dataframe to use as the merge key and vice \\nversa when it comes to the left_on parameter\\n\""
      ]
     },
     "execution_count": 25,
     "metadata": {},
     "output_type": "execute_result"
    }
   ],
   "source": [
    "\"\"\" \n",
    "how = 'inner' it specifies a merge type, whic only includes rows where there are matches in both the \n",
    "left and right dataframes.\n",
    "right_on = specifies the name of the columnin the right dataframe to use as the merge key and vice \n",
    "versa when it comes to the left_on parameter\n",
    "\"\"\""
   ]
  },
  {
   "cell_type": "code",
   "execution_count": 26,
   "metadata": {},
   "outputs": [],
   "source": [
    "#Merge tn to the other two datasets using the movie title\n",
    "merged_tn_tmdb_rt = pd.merge(tn, tmdb_rt_info, left_on='movie', right_on='title', how='inner')\n",
    "# right_on and left_on have been included so as to keep  majority of the rows when it comes to movies "
   ]
  },
  {
   "cell_type": "code",
   "execution_count": 27,
   "metadata": {},
   "outputs": [],
   "source": [
    "#Merge the final dataset to the rest\n",
    "movie_data = pd.merge(merged_tn_tmdb_rt, bom, on='title', how='inner') # title is a te common key uused to finally completely merge all the datasets"
   ]
  },
  {
   "cell_type": "code",
   "execution_count": 28,
   "metadata": {},
   "outputs": [],
   "source": [
    "# Select the specified columns to be utilized in the analysis\n",
    "movie_data= movie_data[\n",
    "['year', 'domestic_gross_x', 'foreign_gross', 'rating', 'genre', 'director', \n",
    "'runtime in minutes', 'popularity', 'release_date_x', 'vote_average', 'vote_count', \n",
    "'movie', 'production_budget', 'domestic_gross_y', 'worldwide_gross']\n",
    "]\n"
   ]
  },
  {
   "cell_type": "code",
   "execution_count": 29,
   "metadata": {},
   "outputs": [
    {
     "name": "stdout",
     "output_type": "stream",
     "text": [
      "<class 'pandas.core.frame.DataFrame'>\n",
      "RangeIndex: 495 entries, 0 to 494\n",
      "Data columns (total 15 columns):\n",
      " #   Column              Non-Null Count  Dtype         \n",
      "---  ------              --------------  -----         \n",
      " 0   year                495 non-null    int64         \n",
      " 1   domestic_gross_x    495 non-null    float64       \n",
      " 2   foreign_gross       434 non-null    object        \n",
      " 3   rating              495 non-null    category      \n",
      " 4   genre               495 non-null    category      \n",
      " 5   director            495 non-null    object        \n",
      " 6   runtime in minutes  478 non-null    float64       \n",
      " 7   popularity          495 non-null    float64       \n",
      " 8   release_date_x      495 non-null    datetime64[ns]\n",
      " 9   vote_average        495 non-null    float64       \n",
      " 10  vote_count          495 non-null    int64         \n",
      " 11  movie               495 non-null    object        \n",
      " 12  production_budget   495 non-null    float64       \n",
      " 13  domestic_gross_y    495 non-null    float64       \n",
      " 14  worldwide_gross     495 non-null    float64       \n",
      "dtypes: category(2), datetime64[ns](1), float64(7), int64(2), object(3)\n",
      "memory usage: 62.5+ KB\n",
      "61\n"
     ]
    },
    {
     "data": {
      "text/plain": [
       "' We can observe that the number of rows in the merged dataset has significantly reduced\\ntis is due to the fact that the data retained only includes rows where there were matches in \\nboth the left and right DataFrames based on the specified keys resulting in a smaller merged dataset.'"
      ]
     },
     "execution_count": 29,
     "metadata": {},
     "output_type": "execute_result"
    }
   ],
   "source": [
    "# Identify whether there are any missing values or duplicates\n",
    "movie_data.info()\n",
    "print(movie_data.duplicated().sum())\n",
    "\n",
    "\"\"\" We can observe that the number of rows in the merged dataset has significantly reduced\n",
    "tis is due to the fact that the data retained only includes rows where there were matches in \n",
    "both the left and right DataFrames based on the specified keys resulting in a smaller merged dataset.\"\"\"\n"
   ]
  },
  {
   "cell_type": "markdown",
   "metadata": {},
   "source": [
    "### Data cleaning of the merged datasets"
   ]
  },
  {
   "cell_type": "code",
   "execution_count": 30,
   "metadata": {},
   "outputs": [],
   "source": [
    "# Drop the duplicates present\n",
    "movie_data = movie_data.drop_duplicates()"
   ]
  },
  {
   "cell_type": "code",
   "execution_count": 31,
   "metadata": {},
   "outputs": [],
   "source": [
    "# Rename some columns so as to ensure accuracy while handling them\n",
    "movie_data= movie_data.rename(columns = {  # the rename () function is called to change the column names\n",
    "'domestic_gross_x' : 'domestic_gross_bom',\n",
    "'domestic_gross_y' : 'domestic_gross_tn',\n",
    "'foreign_gross' : 'foreign_gross_bom',\n",
    "'worldwide_gross': 'foreign_gross_tn'\n",
    "})\n",
    "# convert the worldwide_gross column to a float in order to align it with the other gross columns\n",
    "movie_data ['foreign_gross_bom']= movie_data['foreign_gross_bom' ].str.replace(',',  '').astype(float)"
   ]
  },
  {
   "cell_type": "code",
   "execution_count": 32,
   "metadata": {},
   "outputs": [],
   "source": [
    "# Impute missing values in runtime in minutes with the median\n",
    "movie_data['runtime in minutes'] = movie_data['runtime in minutes'].fillna(movie_data['runtime in minutes'].median())\n",
    "\n",
    "# Impute missing values in 'foreign_gross' with the median\n",
    "movie_data['foreign_gross_bom'] = movie_data['foreign_gross_bom'].fillna(movie_data['foreign_gross_bom'].median())"
   ]
  },
  {
   "cell_type": "code",
   "execution_count": 33,
   "metadata": {},
   "outputs": [
    {
     "name": "stdout",
     "output_type": "stream",
     "text": [
      "<class 'pandas.core.frame.DataFrame'>\n",
      "Index: 434 entries, 0 to 494\n",
      "Data columns (total 15 columns):\n",
      " #   Column              Non-Null Count  Dtype         \n",
      "---  ------              --------------  -----         \n",
      " 0   year                434 non-null    int64         \n",
      " 1   domestic_gross_bom  434 non-null    float64       \n",
      " 2   foreign_gross_bom   434 non-null    float64       \n",
      " 3   rating              434 non-null    category      \n",
      " 4   genre               434 non-null    category      \n",
      " 5   director            434 non-null    object        \n",
      " 6   runtime in minutes  434 non-null    float64       \n",
      " 7   popularity          434 non-null    float64       \n",
      " 8   release_date_x      434 non-null    datetime64[ns]\n",
      " 9   vote_average        434 non-null    float64       \n",
      " 10  vote_count          434 non-null    int64         \n",
      " 11  movie               434 non-null    object        \n",
      " 12  production_budget   434 non-null    float64       \n",
      " 13  domestic_gross_tn   434 non-null    float64       \n",
      " 14  foreign_gross_tn    434 non-null    float64       \n",
      "dtypes: category(2), datetime64[ns](1), float64(8), int64(2), object(2)\n",
      "memory usage: 59.4+ KB\n"
     ]
    }
   ],
   "source": [
    "movie_data.info() # confirm that the datatypes are correct and there are no missing values"
   ]
  },
  {
   "cell_type": "code",
   "execution_count": 34,
   "metadata": {},
   "outputs": [],
   "source": [
    "movie_data= movie_data.reset_index()\n",
    "movie_data.drop(columns=['index'], inplace=True)\n"
   ]
  },
  {
   "cell_type": "markdown",
   "metadata": {},
   "source": [
    "### Data Analysis\n",
    " This next step involves delving into the merged dataset of movie data to uncover hidden patterns, trends, and insights that can help make informed strategic decisions in the film industry. The goal is to identify the most profitable genres and provide recommendations for future movie productions.\n",
    "\n",
    "To achieve this, a range of techniques will be employed , including data filtering, grouping, and visualization. These techniques will be to summarize the data, identify correlations, and uncover relationships between different variables."
   ]
  },
  {
   "cell_type": "code",
   "execution_count": 35,
   "metadata": {},
   "outputs": [],
   "source": [
    "#import the requied libraries to assist in this section\n",
    "import statsmodels.api as sm\n",
    "import scipy.stats \n",
    "from scipy import stats"
   ]
  },
  {
   "cell_type": "code",
   "execution_count": 36,
   "metadata": {},
   "outputs": [
    {
     "name": "stdout",
     "output_type": "stream",
     "text": [
      "float64\n",
      "float64\n",
      "float64\n",
      "float64\n"
     ]
    }
   ],
   "source": [
    "# Find the data type so as to ensure any mathematical equations do not prove to be problematic\n",
    "a= movie_data['domestic_gross_bom']\n",
    "b =movie_data['foreign_gross_tn']\n",
    "c=movie_data['domestic_gross_tn']\n",
    "d=movie_data['foreign_gross_bom']\n",
    "\n",
    "print(a.dtype)\n",
    "print(b.dtype)\n",
    "print(c.dtype)\n",
    "print(d.dtype)\n"
   ]
  },
  {
   "cell_type": "code",
   "execution_count": 37,
   "metadata": {},
   "outputs": [],
   "source": [
    "#Change the datatype from float to integer\n",
    "movie_data['domestic_gross_bom'] = movie_data['domestic_gross_bom'].astype(int)\n",
    "movie_data['foreign_gross_bom'] = movie_data['foreign_gross_bom'].astype(int)\n",
    "movie_data['domestic_gross_tn'] = movie_data['domestic_gross_tn'].astype(int)\n",
    "movie_data['foreign_gross_tn'] = movie_data['foreign_gross_tn'].astype(int)"
   ]
  },
  {
   "cell_type": "code",
   "execution_count": 38,
   "metadata": {},
   "outputs": [],
   "source": [
    "# Add the values from the domestic gross column and the foreign gross column from the bom dataset and add it to their conterpart columns fromthe tn dataset and divide by 2 to obtain their means respectively\n",
    "movie_data['domestic_gross_mean'] = ( movie_data ['domestic_gross_bom'] +  movie_data ['domestic_gross_tn']) /2\n",
    "movie_data['foreign_gross_mean'] = ( movie_data ['foreign_gross_bom'] + movie_data ['foreign_gross_tn']) /2"
   ]
  },
  {
   "cell_type": "code",
   "execution_count": 39,
   "metadata": {},
   "outputs": [],
   "source": [
    "#create a new column worldwide gross by getting the sum of the domestic gross mean and the foreign gross mean\n",
    "movie_data ['worldwide_gross'] = movie_data['domestic_gross_mean'] + movie_data['foreign_gross_mean']"
   ]
  },
  {
   "cell_type": "code",
   "execution_count": 40,
   "metadata": {},
   "outputs": [
    {
     "name": "stdout",
     "output_type": "stream",
     "text": [
      "<class 'pandas.core.frame.DataFrame'>\n",
      "RangeIndex: 434 entries, 0 to 433\n",
      "Data columns (total 18 columns):\n",
      " #   Column               Non-Null Count  Dtype         \n",
      "---  ------               --------------  -----         \n",
      " 0   year                 434 non-null    int64         \n",
      " 1   domestic_gross_bom   434 non-null    int32         \n",
      " 2   foreign_gross_bom    434 non-null    int32         \n",
      " 3   rating               434 non-null    category      \n",
      " 4   genre                434 non-null    category      \n",
      " 5   director             434 non-null    object        \n",
      " 6   runtime in minutes   434 non-null    float64       \n",
      " 7   popularity           434 non-null    float64       \n",
      " 8   release_date_x       434 non-null    datetime64[ns]\n",
      " 9   vote_average         434 non-null    float64       \n",
      " 10  vote_count           434 non-null    int64         \n",
      " 11  movie                434 non-null    object        \n",
      " 12  production_budget    434 non-null    float64       \n",
      " 13  domestic_gross_tn    434 non-null    int32         \n",
      " 14  foreign_gross_tn     434 non-null    int32         \n",
      " 15  domestic_gross_mean  434 non-null    float64       \n",
      " 16  foreign_gross_mean   434 non-null    float64       \n",
      " 17  worldwide_gross      434 non-null    float64       \n",
      "dtypes: category(2), datetime64[ns](1), float64(7), int32(4), int64(2), object(2)\n",
      "memory usage: 59.5+ KB\n"
     ]
    }
   ],
   "source": [
    "# Confrim the additions to the movie data set\n",
    "movie_data.info()"
   ]
  },
  {
   "cell_type": "code",
   "execution_count": 41,
   "metadata": {},
   "outputs": [
    {
     "data": {
      "text/html": [
       "<div>\n",
       "<style scoped>\n",
       "    .dataframe tbody tr th:only-of-type {\n",
       "        vertical-align: middle;\n",
       "    }\n",
       "\n",
       "    .dataframe tbody tr th {\n",
       "        vertical-align: top;\n",
       "    }\n",
       "\n",
       "    .dataframe thead th {\n",
       "        text-align: right;\n",
       "    }\n",
       "</style>\n",
       "<table border=\"1\" class=\"dataframe\">\n",
       "  <thead>\n",
       "    <tr style=\"text-align: right;\">\n",
       "      <th></th>\n",
       "      <th>year</th>\n",
       "      <th>domestic_gross_bom</th>\n",
       "      <th>foreign_gross_bom</th>\n",
       "      <th>rating</th>\n",
       "      <th>genre</th>\n",
       "      <th>director</th>\n",
       "      <th>runtime in minutes</th>\n",
       "      <th>popularity</th>\n",
       "      <th>release_date_x</th>\n",
       "      <th>vote_average</th>\n",
       "      <th>vote_count</th>\n",
       "      <th>movie</th>\n",
       "      <th>production_budget</th>\n",
       "      <th>domestic_gross_tn</th>\n",
       "      <th>foreign_gross_tn</th>\n",
       "      <th>domestic_gross_mean</th>\n",
       "      <th>foreign_gross_mean</th>\n",
       "      <th>worldwide_gross</th>\n",
       "    </tr>\n",
       "  </thead>\n",
       "  <tbody>\n",
       "    <tr>\n",
       "      <th>0</th>\n",
       "      <td>2013</td>\n",
       "      <td>89302115</td>\n",
       "      <td>171200000</td>\n",
       "      <td>NR</td>\n",
       "      <td>Drama|Romance</td>\n",
       "      <td>Vikramaditya Motwane</td>\n",
       "      <td>142.0</td>\n",
       "      <td>12.482</td>\n",
       "      <td>2013-07-02</td>\n",
       "      <td>6.0</td>\n",
       "      <td>3789</td>\n",
       "      <td>The Lone Ranger</td>\n",
       "      <td>275000000.0</td>\n",
       "      <td>89300000</td>\n",
       "      <td>260002115</td>\n",
       "      <td>89301057.5</td>\n",
       "      <td>215601057.5</td>\n",
       "      <td>3.049021e+08</td>\n",
       "    </tr>\n",
       "    <tr>\n",
       "      <th>1</th>\n",
       "      <td>2012</td>\n",
       "      <td>73058679</td>\n",
       "      <td>211100000</td>\n",
       "      <td>R</td>\n",
       "      <td>Comedy|Drama</td>\n",
       "      <td>Jennifer Westfeldt</td>\n",
       "      <td>107.0</td>\n",
       "      <td>18.549</td>\n",
       "      <td>2012-03-09</td>\n",
       "      <td>6.1</td>\n",
       "      <td>3338</td>\n",
       "      <td>John Carter</td>\n",
       "      <td>275000000.0</td>\n",
       "      <td>73100000</td>\n",
       "      <td>282778100</td>\n",
       "      <td>73079339.5</td>\n",
       "      <td>246939050.0</td>\n",
       "      <td>3.200184e+08</td>\n",
       "    </tr>\n",
       "    <tr>\n",
       "      <th>2</th>\n",
       "      <td>2012</td>\n",
       "      <td>73058679</td>\n",
       "      <td>211100000</td>\n",
       "      <td>PG-13</td>\n",
       "      <td>Action and Adventure|Horror|Kids and Family|Sc...</td>\n",
       "      <td>Andrew Stanton|Mark Atkins</td>\n",
       "      <td>118.0</td>\n",
       "      <td>18.549</td>\n",
       "      <td>2012-03-09</td>\n",
       "      <td>6.1</td>\n",
       "      <td>3338</td>\n",
       "      <td>John Carter</td>\n",
       "      <td>275000000.0</td>\n",
       "      <td>73100000</td>\n",
       "      <td>282778100</td>\n",
       "      <td>73079339.5</td>\n",
       "      <td>246939050.0</td>\n",
       "      <td>3.200184e+08</td>\n",
       "    </tr>\n",
       "    <tr>\n",
       "      <th>3</th>\n",
       "      <td>2012</td>\n",
       "      <td>303003568</td>\n",
       "      <td>718100000</td>\n",
       "      <td>PG-13</td>\n",
       "      <td>Action and Adventure|Science Fiction and Fantasy</td>\n",
       "      <td>Peter Jackson</td>\n",
       "      <td>170.0</td>\n",
       "      <td>26.939</td>\n",
       "      <td>2012-12-14</td>\n",
       "      <td>7.2</td>\n",
       "      <td>12076</td>\n",
       "      <td>The Hobbit: An Unexpected Journey</td>\n",
       "      <td>250000000.0</td>\n",
       "      <td>303000000</td>\n",
       "      <td>1017003568</td>\n",
       "      <td>303001784.0</td>\n",
       "      <td>867551784.0</td>\n",
       "      <td>1.170554e+09</td>\n",
       "    </tr>\n",
       "    <tr>\n",
       "      <th>4</th>\n",
       "      <td>2017</td>\n",
       "      <td>172558876</td>\n",
       "      <td>622300000</td>\n",
       "      <td>PG</td>\n",
       "      <td>Documentary</td>\n",
       "      <td>Lucy Walker</td>\n",
       "      <td>111.0</td>\n",
       "      <td>28.101</td>\n",
       "      <td>2017-05-26</td>\n",
       "      <td>6.6</td>\n",
       "      <td>6931</td>\n",
       "      <td>Pirates of the Caribbean: Dead Men Tell No Tales</td>\n",
       "      <td>230000000.0</td>\n",
       "      <td>172600000</td>\n",
       "      <td>788241137</td>\n",
       "      <td>172579438.0</td>\n",
       "      <td>705270568.5</td>\n",
       "      <td>8.778500e+08</td>\n",
       "    </tr>\n",
       "    <tr>\n",
       "      <th>...</th>\n",
       "      <td>...</td>\n",
       "      <td>...</td>\n",
       "      <td>...</td>\n",
       "      <td>...</td>\n",
       "      <td>...</td>\n",
       "      <td>...</td>\n",
       "      <td>...</td>\n",
       "      <td>...</td>\n",
       "      <td>...</td>\n",
       "      <td>...</td>\n",
       "      <td>...</td>\n",
       "      <td>...</td>\n",
       "      <td>...</td>\n",
       "      <td>...</td>\n",
       "      <td>...</td>\n",
       "      <td>...</td>\n",
       "      <td>...</td>\n",
       "      <td>...</td>\n",
       "    </tr>\n",
       "    <tr>\n",
       "      <th>429</th>\n",
       "      <td>2011</td>\n",
       "      <td>568662</td>\n",
       "      <td>34600000</td>\n",
       "      <td>R</td>\n",
       "      <td>Drama</td>\n",
       "      <td>Lynn Shelton</td>\n",
       "      <td>90.0</td>\n",
       "      <td>2.336</td>\n",
       "      <td>2011-07-29</td>\n",
       "      <td>5.8</td>\n",
       "      <td>11</td>\n",
       "      <td>The Future</td>\n",
       "      <td>1000000.0</td>\n",
       "      <td>569000</td>\n",
       "      <td>1239174</td>\n",
       "      <td>568831.0</td>\n",
       "      <td>17919587.0</td>\n",
       "      <td>1.848842e+07</td>\n",
       "    </tr>\n",
       "    <tr>\n",
       "      <th>430</th>\n",
       "      <td>2014</td>\n",
       "      <td>336472</td>\n",
       "      <td>34600000</td>\n",
       "      <td>R</td>\n",
       "      <td>Drama|Science Fiction and Fantasy</td>\n",
       "      <td>Mike Cahill</td>\n",
       "      <td>107.0</td>\n",
       "      <td>8.459</td>\n",
       "      <td>2014-07-18</td>\n",
       "      <td>7.6</td>\n",
       "      <td>1814</td>\n",
       "      <td>I Origins</td>\n",
       "      <td>1000000.0</td>\n",
       "      <td>336000</td>\n",
       "      <td>852399</td>\n",
       "      <td>336236.0</td>\n",
       "      <td>17726199.5</td>\n",
       "      <td>1.806244e+07</td>\n",
       "    </tr>\n",
       "    <tr>\n",
       "      <th>431</th>\n",
       "      <td>2013</td>\n",
       "      <td>16098998</td>\n",
       "      <td>1300000</td>\n",
       "      <td>R</td>\n",
       "      <td>Comedy</td>\n",
       "      <td>Maggie Carey</td>\n",
       "      <td>104.0</td>\n",
       "      <td>9.587</td>\n",
       "      <td>2013-07-12</td>\n",
       "      <td>7.4</td>\n",
       "      <td>645</td>\n",
       "      <td>Fruitvale Station</td>\n",
       "      <td>900000.0</td>\n",
       "      <td>16100000</td>\n",
       "      <td>17549645</td>\n",
       "      <td>16099499.0</td>\n",
       "      <td>9424822.5</td>\n",
       "      <td>2.552432e+07</td>\n",
       "    </tr>\n",
       "    <tr>\n",
       "      <th>432</th>\n",
       "      <td>2011</td>\n",
       "      <td>454121</td>\n",
       "      <td>34600000</td>\n",
       "      <td>NR</td>\n",
       "      <td>Art House and International|Drama</td>\n",
       "      <td>Jeanne Labrune</td>\n",
       "      <td>95.0</td>\n",
       "      <td>2.860</td>\n",
       "      <td>2011-08-26</td>\n",
       "      <td>6.9</td>\n",
       "      <td>45</td>\n",
       "      <td>Circumstance</td>\n",
       "      <td>900000.0</td>\n",
       "      <td>454000</td>\n",
       "      <td>958978</td>\n",
       "      <td>454060.5</td>\n",
       "      <td>17779489.0</td>\n",
       "      <td>1.823355e+07</td>\n",
       "    </tr>\n",
       "    <tr>\n",
       "      <th>433</th>\n",
       "      <td>2012</td>\n",
       "      <td>4010957</td>\n",
       "      <td>34600000</td>\n",
       "      <td>R</td>\n",
       "      <td>Comedy|Drama</td>\n",
       "      <td>Colin Trevorrow</td>\n",
       "      <td>86.0</td>\n",
       "      <td>9.214</td>\n",
       "      <td>2012-06-08</td>\n",
       "      <td>6.9</td>\n",
       "      <td>792</td>\n",
       "      <td>Safety Not Guaranteed</td>\n",
       "      <td>750000.0</td>\n",
       "      <td>4000000</td>\n",
       "      <td>4422318</td>\n",
       "      <td>4005478.5</td>\n",
       "      <td>19511159.0</td>\n",
       "      <td>2.351664e+07</td>\n",
       "    </tr>\n",
       "  </tbody>\n",
       "</table>\n",
       "<p>397 rows × 18 columns</p>\n",
       "</div>"
      ],
      "text/plain": [
       "     year  domestic_gross_bom  foreign_gross_bom rating  \\\n",
       "0    2013            89302115          171200000     NR   \n",
       "1    2012            73058679          211100000      R   \n",
       "2    2012            73058679          211100000  PG-13   \n",
       "3    2012           303003568          718100000  PG-13   \n",
       "4    2017           172558876          622300000     PG   \n",
       "..    ...                 ...                ...    ...   \n",
       "429  2011              568662           34600000      R   \n",
       "430  2014              336472           34600000      R   \n",
       "431  2013            16098998            1300000      R   \n",
       "432  2011              454121           34600000     NR   \n",
       "433  2012             4010957           34600000      R   \n",
       "\n",
       "                                                 genre  \\\n",
       "0                                        Drama|Romance   \n",
       "1                                         Comedy|Drama   \n",
       "2    Action and Adventure|Horror|Kids and Family|Sc...   \n",
       "3     Action and Adventure|Science Fiction and Fantasy   \n",
       "4                                          Documentary   \n",
       "..                                                 ...   \n",
       "429                                              Drama   \n",
       "430                  Drama|Science Fiction and Fantasy   \n",
       "431                                             Comedy   \n",
       "432                  Art House and International|Drama   \n",
       "433                                       Comedy|Drama   \n",
       "\n",
       "                       director  runtime in minutes  popularity  \\\n",
       "0          Vikramaditya Motwane               142.0      12.482   \n",
       "1            Jennifer Westfeldt               107.0      18.549   \n",
       "2    Andrew Stanton|Mark Atkins               118.0      18.549   \n",
       "3                 Peter Jackson               170.0      26.939   \n",
       "4                   Lucy Walker               111.0      28.101   \n",
       "..                          ...                 ...         ...   \n",
       "429                Lynn Shelton                90.0       2.336   \n",
       "430                 Mike Cahill               107.0       8.459   \n",
       "431                Maggie Carey               104.0       9.587   \n",
       "432              Jeanne Labrune                95.0       2.860   \n",
       "433             Colin Trevorrow                86.0       9.214   \n",
       "\n",
       "    release_date_x  vote_average  vote_count  \\\n",
       "0       2013-07-02           6.0        3789   \n",
       "1       2012-03-09           6.1        3338   \n",
       "2       2012-03-09           6.1        3338   \n",
       "3       2012-12-14           7.2       12076   \n",
       "4       2017-05-26           6.6        6931   \n",
       "..             ...           ...         ...   \n",
       "429     2011-07-29           5.8          11   \n",
       "430     2014-07-18           7.6        1814   \n",
       "431     2013-07-12           7.4         645   \n",
       "432     2011-08-26           6.9          45   \n",
       "433     2012-06-08           6.9         792   \n",
       "\n",
       "                                                movie  production_budget  \\\n",
       "0                                     The Lone Ranger        275000000.0   \n",
       "1                                         John Carter        275000000.0   \n",
       "2                                         John Carter        275000000.0   \n",
       "3                   The Hobbit: An Unexpected Journey        250000000.0   \n",
       "4    Pirates of the Caribbean: Dead Men Tell No Tales        230000000.0   \n",
       "..                                                ...                ...   \n",
       "429                                        The Future          1000000.0   \n",
       "430                                         I Origins          1000000.0   \n",
       "431                                 Fruitvale Station           900000.0   \n",
       "432                                      Circumstance           900000.0   \n",
       "433                             Safety Not Guaranteed           750000.0   \n",
       "\n",
       "     domestic_gross_tn  foreign_gross_tn  domestic_gross_mean  \\\n",
       "0             89300000         260002115           89301057.5   \n",
       "1             73100000         282778100           73079339.5   \n",
       "2             73100000         282778100           73079339.5   \n",
       "3            303000000        1017003568          303001784.0   \n",
       "4            172600000         788241137          172579438.0   \n",
       "..                 ...               ...                  ...   \n",
       "429             569000           1239174             568831.0   \n",
       "430             336000            852399             336236.0   \n",
       "431           16100000          17549645           16099499.0   \n",
       "432             454000            958978             454060.5   \n",
       "433            4000000           4422318            4005478.5   \n",
       "\n",
       "     foreign_gross_mean  worldwide_gross  \n",
       "0           215601057.5     3.049021e+08  \n",
       "1           246939050.0     3.200184e+08  \n",
       "2           246939050.0     3.200184e+08  \n",
       "3           867551784.0     1.170554e+09  \n",
       "4           705270568.5     8.778500e+08  \n",
       "..                  ...              ...  \n",
       "429          17919587.0     1.848842e+07  \n",
       "430          17726199.5     1.806244e+07  \n",
       "431           9424822.5     2.552432e+07  \n",
       "432          17779489.0     1.823355e+07  \n",
       "433          19511159.0     2.351664e+07  \n",
       "\n",
       "[397 rows x 18 columns]"
      ]
     },
     "execution_count": 41,
     "metadata": {},
     "output_type": "execute_result"
    }
   ],
   "source": [
    "#Filter the dataset\n",
    "\"\"\"By filtering out rows and ensuring that the figures are more than zero, thsi ensures\n",
    "that subsequent calculations are performed on movies worldwide which bring in a total of 10 million\n",
    "dollars and more \"\"\"\n",
    "\n",
    "movie_data = movie_data.query('worldwide_gross > 10000000')\n",
    "movie_data"
   ]
  },
  {
   "cell_type": "code",
   "execution_count": 42,
   "metadata": {},
   "outputs": [
    {
     "name": "stdout",
     "output_type": "stream",
     "text": [
      "     year  domestic_gross_bom  foreign_gross_bom rating  \\\n",
      "0    2013            89302115          171200000     NR   \n",
      "1    2012            73058679          211100000      R   \n",
      "2    2012            73058679          211100000  PG-13   \n",
      "3    2012           303003568          718100000  PG-13   \n",
      "4    2017           172558876          622300000     PG   \n",
      "..    ...                 ...                ...    ...   \n",
      "429  2011              568662           34600000      R   \n",
      "430  2014              336472           34600000      R   \n",
      "431  2013            16098998            1300000      R   \n",
      "432  2011              454121           34600000     NR   \n",
      "433  2012             4010957           34600000      R   \n",
      "\n",
      "                           genre                    director  \\\n",
      "0                          Drama        Vikramaditya Motwane   \n",
      "1                         Comedy          Jennifer Westfeldt   \n",
      "2           Action and Adventure  Andrew Stanton|Mark Atkins   \n",
      "3           Action and Adventure               Peter Jackson   \n",
      "4                    Documentary                 Lucy Walker   \n",
      "..                           ...                         ...   \n",
      "429                        Drama                Lynn Shelton   \n",
      "430                        Drama                 Mike Cahill   \n",
      "431                       Comedy                Maggie Carey   \n",
      "432  Art House and International              Jeanne Labrune   \n",
      "433                       Comedy             Colin Trevorrow   \n",
      "\n",
      "     runtime in minutes  popularity release_date_x  vote_average  vote_count  \\\n",
      "0                 142.0      12.482     2013-07-02           6.0        3789   \n",
      "1                 107.0      18.549     2012-03-09           6.1        3338   \n",
      "2                 118.0      18.549     2012-03-09           6.1        3338   \n",
      "3                 170.0      26.939     2012-12-14           7.2       12076   \n",
      "4                 111.0      28.101     2017-05-26           6.6        6931   \n",
      "..                  ...         ...            ...           ...         ...   \n",
      "429                90.0       2.336     2011-07-29           5.8          11   \n",
      "430               107.0       8.459     2014-07-18           7.6        1814   \n",
      "431               104.0       9.587     2013-07-12           7.4         645   \n",
      "432                95.0       2.860     2011-08-26           6.9          45   \n",
      "433                86.0       9.214     2012-06-08           6.9         792   \n",
      "\n",
      "                                                movie  production_budget  \\\n",
      "0                                     The Lone Ranger        275000000.0   \n",
      "1                                         John Carter        275000000.0   \n",
      "2                                         John Carter        275000000.0   \n",
      "3                   The Hobbit: An Unexpected Journey        250000000.0   \n",
      "4    Pirates of the Caribbean: Dead Men Tell No Tales        230000000.0   \n",
      "..                                                ...                ...   \n",
      "429                                        The Future          1000000.0   \n",
      "430                                         I Origins          1000000.0   \n",
      "431                                 Fruitvale Station           900000.0   \n",
      "432                                      Circumstance           900000.0   \n",
      "433                             Safety Not Guaranteed           750000.0   \n",
      "\n",
      "     domestic_gross_tn  foreign_gross_tn  domestic_gross_mean  \\\n",
      "0             89300000         260002115           89301057.5   \n",
      "1             73100000         282778100           73079339.5   \n",
      "2             73100000         282778100           73079339.5   \n",
      "3            303000000        1017003568          303001784.0   \n",
      "4            172600000         788241137          172579438.0   \n",
      "..                 ...               ...                  ...   \n",
      "429             569000           1239174             568831.0   \n",
      "430             336000            852399             336236.0   \n",
      "431           16100000          17549645           16099499.0   \n",
      "432             454000            958978             454060.5   \n",
      "433            4000000           4422318            4005478.5   \n",
      "\n",
      "     foreign_gross_mean  worldwide_gross  \n",
      "0           215601057.5     3.049021e+08  \n",
      "1           246939050.0     3.200184e+08  \n",
      "2           246939050.0     3.200184e+08  \n",
      "3           867551784.0     1.170554e+09  \n",
      "4           705270568.5     8.778500e+08  \n",
      "..                  ...              ...  \n",
      "429          17919587.0     1.848842e+07  \n",
      "430          17726199.5     1.806244e+07  \n",
      "431           9424822.5     2.552432e+07  \n",
      "432          17779489.0     1.823355e+07  \n",
      "433          19511159.0     2.351664e+07  \n",
      "\n",
      "[397 rows x 18 columns]\n"
     ]
    }
   ],
   "source": [
    "# Identify the primary genre\n",
    "# The multiple genres are separated with '|' so to remain with 1 genre we must spliit the column into a list of genres then selct the first one\n",
    "movie_data['genre']= movie_data['genre'].apply( lambda x: x.split('|')[0])\n",
    "print(movie_data)"
   ]
  },
  {
   "cell_type": "markdown",
   "metadata": {},
   "source": [
    "##### Data Visualization"
   ]
  },
  {
   "cell_type": "markdown",
   "metadata": {},
   "source": [
    "Through informative and interactive visualizations, we will explore data through a range of charts, graps and plots which leads to easier interpretation and understanding"
   ]
  },
  {
   "cell_type": "code",
   "execution_count": 43,
   "metadata": {},
   "outputs": [
    {
     "name": "stderr",
     "output_type": "stream",
     "text": [
      "c:\\Users\\Administrator\\anaconda3\\Lib\\site-packages\\seaborn\\_oldcore.py:1119: FutureWarning: use_inf_as_na option is deprecated and will be removed in a future version. Convert inf values to NaN before operating instead.\n",
      "  with pd.option_context('mode.use_inf_as_na', True):\n"
     ]
    },
    {
     "data": {
      "image/png": "[encoded data removed]",
      "text/plain": [
       "<Figure size 1000x600 with 1 Axes>"
      ]
     },
     "metadata": {},
     "output_type": "display_data"
    },
    {
     "data": {
      "image/png": "[encoded data removed]",
      "text/plain": [
       "<Figure size 1000x600 with 1 Axes>"
      ]
     },
     "metadata": {},
     "output_type": "display_data"
    }
   ],
   "source": [
    "# Explore the distribution of worldwide gross amount\n",
    "plt.figure (figsize = (10, 6) )\n",
    "sns.histplot( movie_data ['worldwide_gross'], kde = True )\n",
    "plt.title('Distribution of Worldwide Gross Amount' )\n",
    "plt.xlabel( 'Worldwide Gross Amount')\n",
    "plt.ylabel( 'Frequency')\n",
    "plt.show()\n",
    "\n",
    "\n",
    "plt.figure (figsize = (10, 6))\n",
    "sns.boxplot (  movie_data['worldwide_gross'] )\n",
    "plt.title ('Boxplot of Worldwide Gross Amount')\n",
    "plt.xlabel ('Worldwide Gross Amount')\n",
    "plt.show()"
   ]
  },
  {
   "cell_type": "markdown",
   "metadata": {},
   "source": [
    "*__Analysis__*:\n",
    "\n",
    "The above graphs provide us with comprehensive understanding of worldwide gross amounts generated by movies.\n",
    "\n",
    " **Histogram**\n",
    " \n",
    " The chart chows the frequency of worldwide gross amounts across different ranges\n",
    " We observe that:\n",
    " 1. The majority of movies have a worldwide gross amount between 0 and 500 million dollars.\n",
    " 2. There is a long tail of high-gross generating movies, with a few outliers exceeding 1 billion dollars (represented by 1e9 on the x-axis, which is equivalent to 1,000,000,000).\n",
    " 3. The distribution is skewed to the right, indicating that most movies have relatively lower gross generating amount, while a few have extremely high grossing amounts.\n",
    " **This shows that there are specific movie genres that generate alot of income**\n",
    "\n",
    " __Boxplot__\n",
    " \n",
    " This is the second visualization. It provides a summary of the distribtion of median, quartiles and outliers.\n",
    " We observe that:\n",
    " 1. The median worldwide gross amount is around 150-200 million dollars.\n",
    " 2. The interquartile range (IQR) is relatively large, indicating that there is significant variation in worldwide gross amounts.\n",
    " 3. There are several outliers, represented by points above the whiskers, which correspond to extremely high-grossing movies.\n"
   ]
  },
  {
   "cell_type": "code",
   "execution_count": 44,
   "metadata": {},
   "outputs": [
    {
     "name": "stdout",
     "output_type": "stream",
     "text": [
      "Genre Means:\n",
      "genre\n",
      "Action and Adventure           1.885116e+08\n",
      "Animation                      2.574078e+08\n",
      "Art House and International    1.290176e+08\n",
      "Comedy                         1.878454e+08\n",
      "Documentary                    1.724568e+08\n",
      "Drama                          1.556261e+08\n",
      "Horror                         1.203663e+08\n",
      "Mystery and Suspense           2.294690e+08\n",
      "Science Fiction and Fantasy    8.792220e+08\n",
      "Name: worldwide_gross, dtype: float64\n",
      "\n",
      "Genre Counts:\n",
      "genre\n",
      "Action and Adventure            55\n",
      "Animation                       14\n",
      "Art House and International     30\n",
      "Comedy                         104\n",
      "Documentary                     14\n",
      "Drama                          149\n",
      "Horror                          17\n",
      "Mystery and Suspense            13\n",
      "Science Fiction and Fantasy      1\n",
      "Name: worldwide_gross, dtype: int64\n"
     ]
    }
   ],
   "source": [
    "# Explore the relationship between worldwide gross amount and genre\n",
    "genre_means = movie_data.groupby( 'genre')['worldwide_gross' ].mean()\n",
    "genre_counts = movie_data.groupby('genre' )[ 'worldwide_gross'].count()\n",
    "\n",
    "print(\"Genre Means:\")\n",
    "print(genre_means)\n",
    "print(\"\\nGenre Counts:\")\n",
    "print(genre_counts)"
   ]
  },
  {
   "cell_type": "code",
   "execution_count": 45,
   "metadata": {},
   "outputs": [
    {
     "data": {
      "image/png": "[encoded data removed]",
      "text/plain": [
       "<Figure size 1000x600 with 1 Axes>"
      ]
     },
     "metadata": {},
     "output_type": "display_data"
    }
   ],
   "source": [
    "plt.figure(figsize=(10, 6))\n",
    "sns.barplot(x=genre_means.index, y=genre_means.values)\n",
    "plt.title('Mean Worldwide Gross Amount by Genre')\n",
    "plt.xlabel('Genre')\n",
    "plt.ylabel('Mean Worldwide Gross Amount')\n",
    "plt.gcf().autofmt_xdate()\n",
    "plt.show()\n"
   ]
  },
  {
   "cell_type": "markdown",
   "metadata": {},
   "source": [
    "*__Analysis:__*\n",
    "\n",
    "This is a bar graph that portrays a clear representation of the relationship between genre and worldwide gross amount.\n",
    "The plot shows that some genres tend to have higher or lower mean worldwide gross amounts than others, the highest genre being *science fiction and fantasy* and the lowest being *art house and international.*\n",
    "\n",
    "The plot also shows the count of movies for each genre, which can provide insight into the popularity of each genre.\n",
    "\n",
    "By analyzing this relationship, we can gain a better understanding of how genre influences the commercial success of movies. This information can be used to inform decisions about which genres to focus on for the new movie studio.\n"
   ]
  },
  {
   "cell_type": "code",
   "execution_count": 46,
   "metadata": {},
   "outputs": [
    {
     "data": {
      "image/png": "[encoded data removed]",
      "text/plain": [
       "<Figure size 1000x600 with 1 Axes>"
      ]
     },
     "metadata": {},
     "output_type": "display_data"
    }
   ],
   "source": [
    "# Explore the relationship between worldwide gross amount and director\n",
    "director_means = movie_data.groupby('director')['worldwide_gross'].mean()\n",
    "director_counts = movie_data.groupby('director')['worldwide_gross'].count()\n",
    "\n",
    "# Select the top 20 directors with the highest average worldwide gross amount\n",
    "top_directors = director_means.nlargest(20)\n",
    "\n",
    "plt.figure(figsize=(10, 6))\n",
    "sns.barplot(x=top_directors.index, y= top_directors.values)\n",
    "plt.title('Mean Worldwide Gross Amount by Director')\n",
    "plt.xlabel('Director')\n",
    "plt.ylabel('Mean Worldwide Gross Amount')\n",
    "plt.xticks(rotation=90)  # Rotate x-axis labels vertically\n",
    "plt.show()"
   ]
  },
  {
   "cell_type": "markdown",
   "metadata": {},
   "source": [
    "*__Analysis:__*\n",
    "\n",
    "The plot shows the top 20 directors  that tend to have higher mean of generating worldwide gross amounts than others. For example, Sam Mendes has the highest mean worldwide gross amount.\n",
    "\n",
    "The y-axis label shows the mean worldwide gross amount in billions of dollars, represented by 1e9. This means that the values on the y-axis are in billions, so a value of 2e9 would represent a mean worldwide gross amount of 2 billion dollars.\n",
    "\n",
    "The analysis of this relationship is important as we can gain a better understanding of which directors tend to produce movies with higher commercial success. This information can be used to inform decisions about which directors to work with for the new movie studio.\n"
   ]
  },
  {
   "cell_type": "code",
   "execution_count": 47,
   "metadata": {},
   "outputs": [
    {
     "data": {
      "image/png": "[encoded data removed]",
      "text/plain": [
       "<Figure size 1000x600 with 1 Axes>"
      ]
     },
     "metadata": {},
     "output_type": "display_data"
    }
   ],
   "source": [
    "#  Explore and Group the data by genre and calculate the mean vote count\n",
    "genre_vote_counts = movie_data.groupby('genre')['vote_count'].mean()\n",
    "\n",
    "# Plot the results\n",
    "plt.figure(figsize=(10, 6))\n",
    "sns.barplot(x=genre_vote_counts.index, y=genre_vote_counts.values)\n",
    "plt.title('Mean Vote Count by Genre')\n",
    "plt.xlabel('Genre')\n",
    "plt.ylabel('Mean Vote Count')\n",
    "plt.xticks(rotation=90)  # Rotate x-axis labels vertically\n",
    "plt.show()"
   ]
  },
  {
   "cell_type": "markdown",
   "metadata": {},
   "source": [
    "*__Analysis:__*\n",
    "The mean vote count for each genre represents the average number of people who voted for their favorite movies within that genre. A higher mean vote count indicates that a genre is more popular among voters.\n",
    "\n",
    "The decision to group the data by genre  is because we want to compare the popularity of different genres. By looking into the vote count data for each genre, we can determine which genres are most popular among voters. The top three genres are:\n",
    " 1. Science fiction and fantasy\n",
    " 2. Animation\n",
    " 3. Action and Adventure\n"
   ]
  },
  {
   "cell_type": "code",
   "execution_count": 48,
   "metadata": {},
   "outputs": [
    {
     "name": "stdout",
     "output_type": "stream",
     "text": [
      "Correlation between runtime and vote count: 0.14\n"
     ]
    },
    {
     "data": {
      "image/png": "[encoded data removed]",
      "text/plain": [
       "<Figure size 1000x600 with 1 Axes>"
      ]
     },
     "metadata": {},
     "output_type": "display_data"
    }
   ],
   "source": [
    "# Calculate the correlation between runtime and vote count\n",
    "correlation = movie_data['runtime in minutes'].corr(movie_data['vote_count'])\n",
    "print(f'Correlation between runtime and vote count: {correlation:.2f}')\n",
    "\n",
    "# Plot the relationship between runtime and vote count\n",
    "plt.figure(figsize=(10, 6))\n",
    "sns.scatterplot(x=movie_data['runtime in minutes'], y=movie_data['vote_count'])\n",
    "plt.title('Relationship between Runtime and Vote Count')\n",
    "plt.xlabel('Runtime (minutes)')\n",
    "plt.ylabel('Vote Count')\n",
    "plt.show()"
   ]
  },
  {
   "cell_type": "markdown",
   "metadata": {},
   "source": [
    "*__Analysis:__*\n",
    "\n",
    "The scatter plot shows the individual data points for each movie, with the x-axis representing the runtime and the y-axis representing the vote count.\n",
    "\n",
    "We chose to calculate the correlation between runtime and vote count because we want to understand if there is a relationship between the length of a movie and its popularity. This information can be useful when selecting genres for content creation, as it can help identify the types of movies that audiences prefer in terms of runtime.According to the scatterplots runtime of between 80 and 120 minutes id preferable to most people\n",
    "\n",
    "\n",
    "The movie data set has a correlation of 0.14 indicating a weak positive relationship between the two variables. This co means that there is a weak relationship between the runtime and the vote count of movies. As the runtime increases, there is a slight tendency for the vote count to increase as well, but the relationship is not very strong."
   ]
  },
  {
   "cell_type": "markdown",
   "metadata": {},
   "source": [
    "### Hypothesis Testing and Linear Regression Section\n",
    "\n",
    "The Hypothesis Testing and Linear Regression section is essential for validating our findings and making data-driven decisions. Hypothesis testing allows us to determine if differences in worldwide gross amounts between genres are statistically significant, while linear regression reveals how audience engagement, measured by vote counts, impacts financial success. These analyses ensure our recommendations are based on solid evidence, guiding strategic decisions on which genres to prioritize and how to optimize marketing strategies for maximum profitability"
   ]
  },
  {
   "cell_type": "code",
   "execution_count": 50,
   "metadata": {},
   "outputs": [],
   "source": [
    "# Import necessary libraries\n",
    "from scipy.stats import ttest_ind\n",
    "from sklearn.linear_model import LinearRegression\n",
    "from sklearn.model_selection import train_test_split\n",
    "from scipy.stats import chi2_contingency"
   ]
  },
  {
   "cell_type": "markdown",
   "metadata": {},
   "source": [
    "#### *__Business Question 1:__*\n",
    "\n",
    "Is there a significant difference in worldwide gross amounts between Science Fiction/Fantasy movies and other genres?\n",
    "\n",
    "**Null Hypothesis:** *There is no significant difference in worldwide gross amounts between Science Fiction/Fantasy movies and other genres.*\n",
    "\n",
    "**Alternative Hypothesis:** *There is a significant difference in worldwide gross amounts between Science Fiction/Fantasy movies and other genres.*"
   ]
  },
  {
   "cell_type": "code",
   "execution_count": 51,
   "metadata": {},
   "outputs": [
    {
     "name": "stdout",
     "output_type": "stream",
     "text": [
      "T-statistic: 3.09, p-value: 0.0022\n",
      "Reject the null hypothesis. There is a significant difference in worldwide gross amounts between Science Fiction/Fantasy movies and other genres.\n"
     ]
    }
   ],
   "source": [
    "# Extract the relevant data\n",
    "sff_gross=  movie_data[ movie_data['genre']  == 'Science Fiction and Fantasy']['worldwide_gross']\n",
    "other_gross=  movie_data[ movie_data['genre'] != 'Science Fiction and Fantasy']['worldwide_gross']\n",
    "\n",
    "# Perform two-sample t-test\n",
    "t_stat, p_val = ttest_ind(sff_gross, other_gross)\n",
    "\n",
    "print(f'T-statistic: {t_stat:.2f}, p-value: {p_val:.4f}')\n",
    "\n",
    "if p_val  < 0.05:\n",
    "  print('Reject the null hypothesis. There is a significant difference in worldwide gross amounts between Science Fiction/Fantasy movies and other genres.')\n",
    "else:\n",
    "    print('Fail to reject the null hypothesis. There is no significant difference in worldwide gross amounts between Science Fiction/Fantasy movies and other genres.')"
   ]
  },
  {
   "cell_type": "markdown",
   "metadata": {},
   "source": [
    "**Interpretation**\n",
    "\n",
    "The t-statistic of 3.09 and a p-value of 0.0022 indicate a significant difference in worldwide gross amounts between Science Fiction/Fantasy movies and other genres. With a p-value below 0.05, we reject the null hypothesis, suggesting that Science Fiction/Fantasy movies generally earn more globally compared to other genres. This difference is likely due to the high popularity of Science Fiction/Fantasy films, which often attract larger audiences and generate higher box office revenues. Using worldwide gross as a measure allows us to capture the global appeal and financial success of these movies, providing a clear indicator of their market impact."
   ]
  },
  {
   "cell_type": "markdown",
   "metadata": {},
   "source": [
    "##### *__Business Question 2:__*\n",
    "\n",
    "Is there a linear relationship between the number of votes and worldwide gross amounts?\n",
    "\n",
    "Linear regression  will be used to answer this question"
   ]
  },
  {
   "cell_type": "code",
   "execution_count": 52,
   "metadata": {},
   "outputs": [
    {
     "name": "stdout",
     "output_type": "stream",
     "text": [
      "R-squared: 0.62\n",
      "There is a strong linear relationship between the number of votes and worldwide gross amounts.\n"
     ]
    }
   ],
   "source": [
    "# Prepare data for linear regression\n",
    "X  = movie_data [ ['vote_count'] ]\n",
    "y  = movie_data ['worldwide_gross']\n",
    "\n",
    "# Split data into training and testing sets\n",
    "X_train, X_test, y_train, y_test = train_test_split(X, y, test_size=0.2, random_state=42)\n",
    "\n",
    "# Create and fit a linear regression model\n",
    "lr_model = LinearRegression()\n",
    "lr_model.fit(X_train, y_train)\n",
    "\n",
    "# Make predictions on the testing set\n",
    "y_pred = lr_model.predict(X_test)\n",
    "\n",
    "# Evaluate the model using R-squared\n",
    "r2 = lr_model.score(X_test, y_test)\n",
    "print(f'R-squared: {r2:.2f}')\n",
    "\n",
    "if r2 > 0.5:\n",
    "    print('There is a strong linear relationship between the number of votes and worldwide gross amounts.')\n",
    "else:\n",
    "    print('There is a weak linear relationship between the number of votes and worldwide gross amounts.')\n"
   ]
  },
  {
   "cell_type": "markdown",
   "metadata": {},
   "source": [
    "**Interpretation**\n",
    "\n",
    "Linear regression analysis reveals a strong linear relationship between the number of votes a movie receives and its worldwide gross, with an R-squared value of 0.62. This means that 62% of the variation in worldwide gross can be explained by the number of votes. In other words, movies with more votes tend to have higher worldwide gross amounts, indicating a significant predictive relationship.\n",
    "\n",
    "This analysis highlights that audience engagement, as measured by votes, is a key factor in a movie's financial success. This insight can help studios and marketers forecast potential earnings and make informed decisions about marketing and promotion strategies."
   ]
  },
  {
   "cell_type": "markdown",
   "metadata": {},
   "source": [
    "\n",
    "##### *__Business Question 3:__*\n",
    "Is a genre's success also dependent on the director?\n",
    "\n",
    "**Null Hypothesis:** *There is no association between the genre of the movies and the director.*\n",
    "\n",
    "**Alternative Hypothesis:** *There is an association between the genre of the movies and the director.*\n",
    "\n",
    "The hypothesis test to be used here is the Chi-Squared Test for Independence\n"
   ]
  },
  {
   "cell_type": "code",
   "execution_count": 53,
   "metadata": {},
   "outputs": [
    {
     "name": "stdout",
     "output_type": "stream",
     "text": [
      "Chi-squared  statistic: 2982.07, p-value: 0.0000\n"
     ]
    }
   ],
   "source": [
    "# Utilize 'genre' and 'director' are columns in your dataframe\n",
    "contingency_table  = pd.crosstab( movie_data ['genre'], movie_data ['director'] )\n",
    "# Perform the chi-squared test\n",
    "chi2_stat, p_val, dof, expected = chi2_contingency(contingency_table)\n",
    "\n",
    "# Print results\n",
    "print( f'Chi-squared  statistic: {chi2_stat:.2f}, p-value: {p_val:.4f}' )"
   ]
  },
  {
   "cell_type": "markdown",
   "metadata": {},
   "source": [
    "**Interpretataion**\n",
    "\n",
    " As the p-value is significantly less than 0.05, we reject the null hypothesis. This indicates a significant association between the genre of the movies and the director. \n",
    "\n",
    " The chi-squared test demonstrates a significant relationship between movie genres and directors, suggesting that the genres a  director directs affect the popularity of a movie. Its importantto understand the directoral influence on genre preferences."
   ]
  },
  {
   "cell_type": "markdown",
   "metadata": {},
   "source": [
    "### Summary of Tests Done\n",
    "\n",
    "The analysis of movie data has provided valuable insights into factors influencing the commercial success of films. The t-test results indicate a significant difference in worldwide gross between Science Fiction and Fantasy movies and other genres, with Science Fiction and Fantasy movies generally earning more. This is attributed to their high popularity and global appeal, which can lead to greater box office revenues. Using worldwide gross as a metric effectively captures the financial impact of these films, supporting the recommendation to focus on this genre.\n",
    "\n",
    "Further analysis using linear regression revealed a strong linear relationship between the number of votes and worldwide gross amounts. This suggests that movies with more votes tend to have higher worldwide gross amounts, underscoring the importance of audience engagement in predicting financial success. Additionally, the chi-squared test for independence showed a significant association between movie genres and directors, implying that the genre a director works in can influence the movie's success. Based on these findings, it is recommended that the new studio prioritize Science Fiction and Fantasy, Animation, and Action and Adventure genres for production, and consider collaborating with successful directors to maximize box office potential.\n",
    "\n"
   ]
  },
  {
   "cell_type": "markdown",
   "metadata": {},
   "source": [
    "## Recommendations\n",
    "\n",
    "Based on the analysis, the top three genres that should be utilized for content creation are:\n",
    "\n",
    "**Science Fiction and Fantasy:** This genre has the highest mean worldwide gross amount, indicating that it tends to generate the most revenue at the box office. Additionally, it is one of the most popular among voters, suggesting that it has a broad appeal. By creating content in this genre, the studio can tap into a large and lucrative market. Furthermore, Science Fiction and Fantasy movies often have a built-in fan base, which can lead to a loyal following and positive word-of-mouth.\n",
    "\n",
    "**Animation:** This genre has a high mean vote count, indicating that it is highly regarded by audiences. Animation movies often appeal to a wide range of age from children to adults, making them a versatile and profitable option. Moreover, animation movies can be produced in a variety of styles, from traditional 2D to modern CGI, allowing for creative freedom and flexibility.\n",
    "\n",
    "__Action and Adventure:__ This genre has a high mean worldwide gross amount, indicating that it tends to perform well at the box office. Action and Adventure movies often feature high-octane action sequences, thrilling stunts, and epic storylines, making them appealing to a broad audience. Additionally, this genre can be combined with other genres, such as Science Fiction or Fantasy, to create a unique and captivating cinematic experience.\n",
    "\n",
    "These genres should be utilized because they tend to perform well at the box office and are popular among voters. By focusing on these genres, the studio can increase its chances of producing commercially successful movies that resonate with audiences.\n"
   ]
  },
  {
   "cell_type": "markdown",
   "metadata": {},
   "source": [
    "## Conclusion\n",
    "\n",
    "The analysis provides actionable insights that the head of the company's new movie studio can use to inform decisions about what type of films to create. By focusing on Science Fiction and Fantasy, Animation, and Action and Adventure genres, and creating movies with a runtime of between 80 and 120 minutes, the studio can increase its chances of producing commercially successful movies. Additionally, the studio should consider working with directors who have a track record of producing successful movies. By following these recommendations, the studio can make informed decisions and increase its chances of success in the competitive movie industry."
   ]
  }
 ],
 "metadata": {
  "kernelspec": {
   "display_name": "Python 3",
   "language": "python",
   "name": "python3"
  },
  "language_info": {
   "codemirror_mode": {
    "name": "ipython",
    "version": 3
   },
   "file_extension": ".py",
   "mimetype": "text/x-python",
   "name": "python",
   "nbconvert_exporter": "python",
   "pygments_lexer": "ipython3",
   "version": "3.11.7"
  }
 },
 "nbformat": 4,
 "nbformat_minor": 2
}
